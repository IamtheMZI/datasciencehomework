{
 "cells": [
  {
   "cell_type": "markdown",
   "metadata": {
    "colab_type": "text",
    "id": "KkqlbEEvsHuw"
   },
   "source": [
    "# Recommendation Systems"
   ]
  },
  {
   "cell_type": "markdown",
   "metadata": {
    "colab_type": "text",
    "id": "JXCjew2ItepU"
   },
   "source": [
    "Companies like Amazon(books, items), Netflix(movies), Google(News,Search), and Pandora/Spotify(music) leverage recommendation systems to help users discover new and relevant items (products, videos, jobs, music), creating a delightful user experience while driving incremental revenue. \n",
    "\n",
    "The need to build robust recommendation systems is extremely important given the huge demand for personalized content of modern consumers.\n"
   ]
  },
  {
   "cell_type": "markdown",
   "metadata": {
    "colab_type": "text",
    "id": "_lc420j2uhwZ"
   },
   "source": [
    "In this assignment, you will be applying your learning of recommendation systems in this Unit towards building the following four different types of recommendation systems:\n",
    "\n",
    "1.   Global Recommendation Systems (Statistical)   \n",
    "2.   Content-based Recommendation Systems\n",
    "3.   Collaborative Filtering (User-Item) Recommendation Systems\n",
    "4.   Hybrid Recommendation Systems\n",
    "\n",
    "The focus of the mini-project here would be to build a movie recommendation system.\n"
   ]
  },
  {
   "cell_type": "markdown",
   "metadata": {
    "colab_type": "text",
    "id": "CL3nuM_Kv17_"
   },
   "source": [
    "## 1. Dataset Acquisition\n",
    "\n",
    "Following are the key descriptions of the datasets you will be using. The data used here has been compiled from various movie datasets like Netflix and IMDb.\n",
    "\n",
    "1. __Filename: `movie_titles.csv`:__\n",
    "\n",
    "  - __`MovieID`__: MovieID does not correspond to actual Netflix movie ids or IMDB movie ids\n",
    "  - __`YearOfRelease`__: YearOfRelease can range from 1890 to 2005 and may correspond to the release of corresponding DVD, not necessarily its theaterical release\n",
    "  - __`Title`__: Title is the Netflix movie title and may not correspond to titles used on other sites. Titles are in English\n",
    "\n",
    "\n",
    "2. __Combined User-Ratings Dataset Description - `combined_data.csv`:__\n",
    "\n",
    "  - The first line of the contains the movie id followed by a colon.    \n",
    "  - Each subsequent line in the file corresponds to a rating from a customer and its date in the following format:\n",
    "\n",
    "    - MovieIDs range from 1 to 17770 sequentially.\n",
    "    - CustomerIDs range from 1 to 2649429, with gaps. There are 480189 users. \n",
    "    - Ratings are on a five star (integral) scale from 1 to 5.\n",
    "    - Dates have the format YYYY-MM-DD.\n",
    "\n",
    "\n",
    "3. __Filename: `movies_metadata.csv`__\n",
    "\n",
    "The main Movies Metadata file. Contains information on 45,000 movies featured in the Full MovieLens dataset. Features include posters, backdrops, budget, revenue, release dates, languages, production countries and companies.\n"
   ]
  },
  {
   "cell_type": "markdown",
   "metadata": {
    "colab_type": "text",
    "id": "aaic3a2Cw0T5"
   },
   "source": [
    "## 2: Import Necessary Dependencies\n",
    "\n",
    "We will be leveraging __`keras`__ on top of __`tensorflow`__ for building some of the collaborative filtering and hybrid models. There are compatibility issues with handling sparse layers with dense layers till now in TensorFlow 2 hence we are leveraging native Keras but in the long run once this issue is resolved we can leverage __`tf.keras`__ with minimal code updates."
   ]
  },
  {
   "cell_type": "code",
   "execution_count": 1,
   "metadata": {
    "colab": {},
    "colab_type": "code",
    "id": "iX9t8rYaxVGh"
   },
   "outputs": [],
   "source": [
    "# filter out unncessary warnings\n",
    "import warnings\n",
    "warnings.filterwarnings('ignore')"
   ]
  },
  {
   "cell_type": "code",
   "execution_count": 2,
   "metadata": {
    "colab": {
     "base_uri": "https://localhost:8080/",
     "height": 79
    },
    "colab_type": "code",
    "id": "JGWCPwAiP7vv",
    "outputId": "a0320c9e-dfa3-49e3-bf35-2095bce263d8"
   },
   "outputs": [],
   "source": [
    "# To store\\load the data\n",
    "import pandas as pd\n",
    "\n",
    "# To do linear algebra\n",
    "import numpy as np\n",
    "\n",
    "# To create plots\n",
    "import matplotlib.pyplot as plt\n",
    "import seaborn as sns\n",
    "\n",
    "\n",
    "# To compute similarities between vectors\n",
    "from sklearn.metrics import mean_squared_error\n",
    "from sklearn.metrics.pairwise import cosine_similarity\n",
    "from sklearn.feature_extraction.text import TfidfVectorizer\n",
    "\n",
    "# data load progress bars\n",
    "from tqdm import tqdm\n",
    "\n",
    "from collections import deque\n",
    "\n",
    "# To create deep learning models\n",
    "import tensorflow as tf\n",
    "import keras\n",
    "from keras.layers import Input, Embedding, Reshape, Dot, Concatenate, Dense, Dropout\n",
    "from keras.models import Model\n",
    "\n",
    "# To stack sparse matrices\n",
    "from scipy.sparse import vstack"
   ]
  },
  {
   "cell_type": "code",
   "execution_count": 3,
   "metadata": {
    "colab": {},
    "colab_type": "code",
    "id": "whZc1FgzyPyY"
   },
   "outputs": [],
   "source": [
    "# remove unnecessary TF logs\n",
    "import logging\n",
    "tf.get_logger().setLevel(logging.ERROR)"
   ]
  },
  {
   "cell_type": "code",
   "execution_count": 4,
   "metadata": {
    "colab": {
     "base_uri": "https://localhost:8080/",
     "height": 50
    },
    "colab_type": "code",
    "id": "Ce2tjPHPzWFd",
    "outputId": "f69dceec-26bc-44a3-b47c-5615a02ded51"
   },
   "outputs": [
    {
     "name": "stdout",
     "output_type": "stream",
     "text": [
      "TF Version: 2.5.0\n",
      "Keras Version: 2.5.0\n"
     ]
    }
   ],
   "source": [
    "# check keras and TF version used\n",
    "print('TF Version:', tf.__version__)\n",
    "print('Keras Version:', keras.__version__)\n",
    "# TF Version: 1.15.0\n",
    "# Keras Version: 2.2.5"
   ]
  },
  {
   "cell_type": "markdown",
   "metadata": {
    "colab_type": "text",
    "id": "lXXYudDD0Coy"
   },
   "source": [
    "Let's start loading data that will be used for building the recommendation systems"
   ]
  },
  {
   "cell_type": "markdown",
   "metadata": {
    "colab_type": "text",
    "id": "6FJZmUvExOYt"
   },
   "source": [
    "# 3. Load Datasets"
   ]
  },
  {
   "cell_type": "markdown",
   "metadata": {
    "colab_type": "text",
    "id": "AnAU78S7xz-H"
   },
   "source": [
    "## 3.1: Load Movie Metadata Datasets\n",
    "\n",
    "First, we will load the movie_titles.csv data from the Netflix prize data source"
   ]
  },
  {
   "cell_type": "code",
   "execution_count": 5,
   "metadata": {
    "colab": {
     "base_uri": "https://localhost:8080/",
     "height": 242
    },
    "colab_type": "code",
    "id": "tgD9whbBfcWW",
    "outputId": "4b9b02d5-13bf-4d4b-a684-2bf9420fa4da"
   },
   "outputs": [
    {
     "name": "stdout",
     "output_type": "stream",
     "text": [
      "Shape Movie-Titles:\t(17770, 2)\n"
     ]
    },
    {
     "data": {
      "text/html": [
       "<div>\n",
       "<style scoped>\n",
       "    .dataframe tbody tr th:only-of-type {\n",
       "        vertical-align: middle;\n",
       "    }\n",
       "\n",
       "    .dataframe tbody tr th {\n",
       "        vertical-align: top;\n",
       "    }\n",
       "\n",
       "    .dataframe thead th {\n",
       "        text-align: right;\n",
       "    }\n",
       "</style>\n",
       "<table border=\"1\" class=\"dataframe\">\n",
       "  <thead>\n",
       "    <tr style=\"text-align: right;\">\n",
       "      <th></th>\n",
       "      <th>Year</th>\n",
       "      <th>Name</th>\n",
       "    </tr>\n",
       "    <tr>\n",
       "      <th>Id</th>\n",
       "      <th></th>\n",
       "      <th></th>\n",
       "    </tr>\n",
       "  </thead>\n",
       "  <tbody>\n",
       "    <tr>\n",
       "      <th>7630</th>\n",
       "      <td>1991.0</td>\n",
       "      <td>Grand Canyon</td>\n",
       "    </tr>\n",
       "    <tr>\n",
       "      <th>5436</th>\n",
       "      <td>1986.0</td>\n",
       "      <td>Seize the Day</td>\n",
       "    </tr>\n",
       "    <tr>\n",
       "      <th>7078</th>\n",
       "      <td>2001.0</td>\n",
       "      <td>Yellowstone: The World's First National Park</td>\n",
       "    </tr>\n",
       "    <tr>\n",
       "      <th>4173</th>\n",
       "      <td>1998.0</td>\n",
       "      <td>From Dusk Till Dawn 2: Texas Blood Money</td>\n",
       "    </tr>\n",
       "    <tr>\n",
       "      <th>3354</th>\n",
       "      <td>1991.0</td>\n",
       "      <td>Mystery Science Theater 3000: Santa Claus Conq...</td>\n",
       "    </tr>\n",
       "  </tbody>\n",
       "</table>\n",
       "</div>"
      ],
      "text/plain": [
       "        Year                                               Name\n",
       "Id                                                             \n",
       "7630  1991.0                                       Grand Canyon\n",
       "5436  1986.0                                      Seize the Day\n",
       "7078  2001.0       Yellowstone: The World's First National Park\n",
       "4173  1998.0           From Dusk Till Dawn 2: Texas Blood Money\n",
       "3354  1991.0  Mystery Science Theater 3000: Santa Claus Conq..."
      ]
     },
     "execution_count": 5,
     "metadata": {},
     "output_type": "execute_result"
    }
   ],
   "source": [
    "# Load data for all movies\n",
    "movie_titles = pd.read_csv('./data/movie_titles.csv', \n",
    "                           encoding = 'ISO-8859-1', \n",
    "                           header = None, \n",
    "                           names = ['Id', 'Year', 'Name']).set_index('Id')\n",
    "\n",
    "print('Shape Movie-Titles:\\t{}'.format(movie_titles.shape))\n",
    "movie_titles.sample(5)"
   ]
  },
  {
   "cell_type": "markdown",
   "metadata": {
    "colab_type": "text",
    "id": "SYafEzcYxa09"
   },
   "source": [
    "There are approximately 18000 movies in the ratings dataset and the metadata information includes the year of release and movie title"
   ]
  },
  {
   "cell_type": "markdown",
   "metadata": {
    "colab_type": "text",
    "id": "aE4QaObcyAup"
   },
   "source": [
    "Next, we will load the movie_metadata.csv from The movies dataset source. This is to get the metadata information like description etc. related to each movie."
   ]
  },
  {
   "cell_type": "code",
   "execution_count": 6,
   "metadata": {
    "colab": {
     "base_uri": "https://localhost:8080/",
     "height": 242
    },
    "colab_type": "code",
    "id": "WWig4ePBqGSD",
    "outputId": "3dff280d-bb3e-4701-b0fb-ced2eecbee1b"
   },
   "outputs": [
    {
     "name": "stdout",
     "output_type": "stream",
     "text": [
      "Shape Movie-Metadata:\t(21604, 1)\n"
     ]
    },
    {
     "data": {
      "text/html": [
       "<div>\n",
       "<style scoped>\n",
       "    .dataframe tbody tr th:only-of-type {\n",
       "        vertical-align: middle;\n",
       "    }\n",
       "\n",
       "    .dataframe tbody tr th {\n",
       "        vertical-align: top;\n",
       "    }\n",
       "\n",
       "    .dataframe thead th {\n",
       "        text-align: right;\n",
       "    }\n",
       "</style>\n",
       "<table border=\"1\" class=\"dataframe\">\n",
       "  <thead>\n",
       "    <tr style=\"text-align: right;\">\n",
       "      <th></th>\n",
       "      <th>overview</th>\n",
       "    </tr>\n",
       "    <tr>\n",
       "      <th>original_title</th>\n",
       "      <th></th>\n",
       "    </tr>\n",
       "  </thead>\n",
       "  <tbody>\n",
       "    <tr>\n",
       "      <th>Crossfire Hurricane</th>\n",
       "      <td>This film is released as part of the ongoing 5...</td>\n",
       "    </tr>\n",
       "    <tr>\n",
       "      <th>The Twilight Saga: Eclipse</th>\n",
       "      <td>Bella once again finds herself surrounded by d...</td>\n",
       "    </tr>\n",
       "    <tr>\n",
       "      <th>Borrowed Hearts</th>\n",
       "      <td>Single mom Kathleen Russell (Roma Downey) and ...</td>\n",
       "    </tr>\n",
       "    <tr>\n",
       "      <th>The Good Guy</th>\n",
       "      <td>Ambitious young Manhattanite and urban conserv...</td>\n",
       "    </tr>\n",
       "    <tr>\n",
       "      <th>Airlift</th>\n",
       "      <td>When Iraq invades Kuwait in August, 1990, a ca...</td>\n",
       "    </tr>\n",
       "  </tbody>\n",
       "</table>\n",
       "</div>"
      ],
      "text/plain": [
       "                                                                     overview\n",
       "original_title                                                               \n",
       "Crossfire Hurricane         This film is released as part of the ongoing 5...\n",
       "The Twilight Saga: Eclipse  Bella once again finds herself surrounded by d...\n",
       "Borrowed Hearts             Single mom Kathleen Russell (Roma Downey) and ...\n",
       "The Good Guy                Ambitious young Manhattanite and urban conserv...\n",
       "Airlift                     When Iraq invades Kuwait in August, 1990, a ca..."
      ]
     },
     "execution_count": 6,
     "metadata": {},
     "output_type": "execute_result"
    }
   ],
   "source": [
    "# Load a movie metadata dataset\n",
    "movie_metadata = (pd.read_csv('./data/movies_metadata.csv', \n",
    "                              low_memory=False)[['original_title', 'overview', 'vote_count']]\n",
    "                    .set_index('original_title')\n",
    "                    .dropna())\n",
    "\n",
    "# Remove the long tail of rarly rated moves\n",
    "movie_metadata = movie_metadata[movie_metadata['vote_count']>10].drop('vote_count', axis=1)\n",
    "\n",
    "print('Shape Movie-Metadata:\\t{}'.format(movie_metadata.shape))\n",
    "movie_metadata.sample(5)"
   ]
  },
  {
   "cell_type": "markdown",
   "metadata": {
    "colab_type": "text",
    "id": "dElmRUSWyYoh"
   },
   "source": [
    "Around 21,000 entries in the movies metadata dataset"
   ]
  },
  {
   "cell_type": "markdown",
   "metadata": {
    "colab_type": "text",
    "id": "XJ3cHW1eyhwR"
   },
   "source": [
    "## 3.2: Load User-Movie-Rating Dataset"
   ]
  },
  {
   "cell_type": "code",
   "execution_count": 7,
   "metadata": {
    "colab": {
     "base_uri": "https://localhost:8080/",
     "height": 360
    },
    "colab_type": "code",
    "id": "4s_qbrIhqW31",
    "outputId": "b9505c13-e21e-4cf2-837d-5410394b7655"
   },
   "outputs": [
    {
     "name": "stdout",
     "output_type": "stream",
     "text": [
      "Shape User-Ratings:\t(24053764, 4)\n"
     ]
    },
    {
     "data": {
      "text/html": [
       "<div>\n",
       "<style scoped>\n",
       "    .dataframe tbody tr th:only-of-type {\n",
       "        vertical-align: middle;\n",
       "    }\n",
       "\n",
       "    .dataframe tbody tr th {\n",
       "        vertical-align: top;\n",
       "    }\n",
       "\n",
       "    .dataframe thead th {\n",
       "        text-align: right;\n",
       "    }\n",
       "</style>\n",
       "<table border=\"1\" class=\"dataframe\">\n",
       "  <thead>\n",
       "    <tr style=\"text-align: right;\">\n",
       "      <th></th>\n",
       "      <th>User</th>\n",
       "      <th>Rating</th>\n",
       "      <th>Date</th>\n",
       "      <th>Movie</th>\n",
       "    </tr>\n",
       "  </thead>\n",
       "  <tbody>\n",
       "    <tr>\n",
       "      <th>1661909</th>\n",
       "      <td>2559961</td>\n",
       "      <td>4.0</td>\n",
       "      <td>2005-08-09</td>\n",
       "      <td>313</td>\n",
       "    </tr>\n",
       "    <tr>\n",
       "      <th>11412252</th>\n",
       "      <td>1724194</td>\n",
       "      <td>5.0</td>\n",
       "      <td>2005-09-11</td>\n",
       "      <td>2178</td>\n",
       "    </tr>\n",
       "    <tr>\n",
       "      <th>12987968</th>\n",
       "      <td>54514</td>\n",
       "      <td>4.0</td>\n",
       "      <td>2004-06-22</td>\n",
       "      <td>2462</td>\n",
       "    </tr>\n",
       "    <tr>\n",
       "      <th>16438706</th>\n",
       "      <td>893357</td>\n",
       "      <td>4.0</td>\n",
       "      <td>2005-06-04</td>\n",
       "      <td>3168</td>\n",
       "    </tr>\n",
       "    <tr>\n",
       "      <th>18033969</th>\n",
       "      <td>2510675</td>\n",
       "      <td>2.0</td>\n",
       "      <td>2005-10-14</td>\n",
       "      <td>3433</td>\n",
       "    </tr>\n",
       "    <tr>\n",
       "      <th>23583436</th>\n",
       "      <td>631633</td>\n",
       "      <td>3.0</td>\n",
       "      <td>2005-01-08</td>\n",
       "      <td>4402</td>\n",
       "    </tr>\n",
       "    <tr>\n",
       "      <th>9544743</th>\n",
       "      <td>621135</td>\n",
       "      <td>4.0</td>\n",
       "      <td>2005-05-29</td>\n",
       "      <td>1865</td>\n",
       "    </tr>\n",
       "    <tr>\n",
       "      <th>4011824</th>\n",
       "      <td>1034831</td>\n",
       "      <td>4.0</td>\n",
       "      <td>2004-02-21</td>\n",
       "      <td>759</td>\n",
       "    </tr>\n",
       "    <tr>\n",
       "      <th>2340429</th>\n",
       "      <td>1569467</td>\n",
       "      <td>4.0</td>\n",
       "      <td>2005-05-26</td>\n",
       "      <td>443</td>\n",
       "    </tr>\n",
       "    <tr>\n",
       "      <th>2799172</th>\n",
       "      <td>1852040</td>\n",
       "      <td>1.0</td>\n",
       "      <td>2004-01-24</td>\n",
       "      <td>500</td>\n",
       "    </tr>\n",
       "  </tbody>\n",
       "</table>\n",
       "</div>"
      ],
      "text/plain": [
       "             User  Rating        Date  Movie\n",
       "1661909   2559961     4.0  2005-08-09    313\n",
       "11412252  1724194     5.0  2005-09-11   2178\n",
       "12987968    54514     4.0  2004-06-22   2462\n",
       "16438706   893357     4.0  2005-06-04   3168\n",
       "18033969  2510675     2.0  2005-10-14   3433\n",
       "23583436   631633     3.0  2005-01-08   4402\n",
       "9544743    621135     4.0  2005-05-29   1865\n",
       "4011824   1034831     4.0  2004-02-21    759\n",
       "2340429   1569467     4.0  2005-05-26    443\n",
       "2799172   1852040     1.0  2004-01-24    500"
      ]
     },
     "execution_count": 7,
     "metadata": {},
     "output_type": "execute_result"
    }
   ],
   "source": [
    "# Load single data-file\n",
    "df_raw = pd.read_csv('./data/combined_data.csv', \n",
    "                     header=None, \n",
    "                     names=['User', 'Rating', 'Date'], \n",
    "                     usecols=[0, 1, 2])\n",
    "\n",
    "# Find empty rows to slice dataframe for each movie\n",
    "tmp_movies = df_raw[df_raw['Rating'].isna()]['User'].reset_index()\n",
    "movie_indices = [[index, int(movie[:-1])] for index, movie in tmp_movies.values]\n",
    "\n",
    "# Shift the movie_indices by one to get start and endpoints of all movies\n",
    "shifted_movie_indices = deque(movie_indices)\n",
    "shifted_movie_indices.rotate(-1)\n",
    "\n",
    "# Gather all dataframes\n",
    "user_data = []\n",
    "\n",
    "# Iterate over all movies\n",
    "for [df_id_1, movie_id], [df_id_2, next_movie_id] in zip(movie_indices, shifted_movie_indices):\n",
    "    \n",
    "    # Check if it is the last movie in the file\n",
    "    if df_id_1<df_id_2:\n",
    "        tmp_df = df_raw.loc[df_id_1+1:df_id_2-1].copy()\n",
    "    else:\n",
    "        tmp_df = df_raw.loc[df_id_1+1:].copy()\n",
    "        \n",
    "    # Create movie_id column\n",
    "    tmp_df['Movie'] = movie_id\n",
    "    \n",
    "    # Append dataframe to list\n",
    "    user_data.append(tmp_df)\n",
    "\n",
    "# Combine all dataframes\n",
    "df = pd.concat(user_data)\n",
    "del user_data, df_raw, tmp_movies, tmp_df, shifted_movie_indices, movie_indices, df_id_1, movie_id, df_id_2, next_movie_id\n",
    "print('Shape User-Ratings:\\t{}'.format(df.shape))\n",
    "df.sample(10)"
   ]
  },
  {
   "cell_type": "markdown",
   "metadata": {
    "colab_type": "text",
    "id": "sg90OAW_zUwL"
   },
   "source": [
    "There are about 24 Million+ different rating records!"
   ]
  },
  {
   "cell_type": "markdown",
   "metadata": {
    "colab_type": "text",
    "id": "xKIrEduYz6gh"
   },
   "source": [
    "We have taken the data required for building the system and now let's do some EDA on the dataset to better understand our data"
   ]
  },
  {
   "cell_type": "markdown",
   "metadata": {
    "colab_type": "text",
    "id": "4wQzTRdm0tYg"
   },
   "source": [
    "# 4. Exploratory Data Analysis"
   ]
  },
  {
   "cell_type": "markdown",
   "metadata": {
    "colab_type": "text",
    "id": "KVaYGLc94aGm"
   },
   "source": [
    "## 4.1: When were the movies released?\n"
   ]
  },
  {
   "cell_type": "code",
   "execution_count": 8,
   "metadata": {
    "colab": {
     "base_uri": "https://localhost:8080/",
     "height": 374
    },
    "colab_type": "code",
    "id": "-iwB_2Cm24FL",
    "outputId": "b94a5226-9278-4579-e190-c8b20f2903c5"
   },
   "outputs": [
    {
     "data": {
      "image/png": "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\n",
      "text/plain": [
       "<Figure size 1008x432 with 1 Axes>"
      ]
     },
     "metadata": {
      "needs_background": "light"
     },
     "output_type": "display_data"
    }
   ],
   "source": [
    "fig, ax = plt.subplots(1, 1, figsize=(14, 6))\n",
    "\n",
    "data = movie_titles['Year'].value_counts().sort_index()\n",
    "x = data.index.map(int)\n",
    "y = data.values\n",
    "\n",
    "sns.barplot(x, y)\n",
    "xmin, xmax = plt.xlim()\n",
    "xtick_labels = [x[0]] + list(x[10:-10:10]) + [x[-1]]\n",
    "plt.xticks(ticks=np.linspace(xmin, xmax, 10), labels=xtick_labels);"
   ]
  },
  {
   "cell_type": "markdown",
   "metadata": {
    "colab_type": "text",
    "id": "lJ2mWAym5rBL"
   },
   "source": [
    "Many movies on Netflix have been released in this millennial. Whether Netflix prefers young movies or there are no old movies left can not be deduced from this plot.\n",
    "The decline for the rightmost point is probably caused by an incomplete last year."
   ]
  },
  {
   "cell_type": "markdown",
   "metadata": {
    "colab_type": "text",
    "id": "QACzcP3w4z6j"
   },
   "source": [
    "## Q 4.2: How are The Ratings Distributed?\n",
    "\n",
    "__Your Turn:__ Build the visualization for rating distributions similar to the previous plot.\n"
   ]
  },
  {
   "cell_type": "code",
   "execution_count": 9,
   "metadata": {
    "colab": {
     "base_uri": "https://localhost:8080/",
     "height": 385
    },
    "colab_type": "code",
    "id": "16Mvv0w124FP",
    "outputId": "b9643de6-3b43-4826-ef57-744fde784404"
   },
   "outputs": [
    {
     "data": {
      "image/png": "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\n",
      "text/plain": [
       "<Figure size 1008x432 with 1 Axes>"
      ]
     },
     "metadata": {
      "needs_background": "light"
     },
     "output_type": "display_data"
    }
   ],
   "source": [
    "fig, ax = plt.subplots(1, 1, figsize=(14, 6))\n",
    "\n",
    "data = df['Rating'].value_counts().sort_index()\n",
    "x = data.index.map(int)\n",
    "y = data.values\n",
    "\n",
    "sns.barplot(x, y)\n",
    "xmin, xmax = plt.xlim()\n",
    "xtick_labels = [x[0]] + list(x[10:-10:10]) + [x[-1]]\n",
    "plt.xticks(ticks=np.linspace(xmin, xmax, 10), labels=xtick_labels);"
   ]
  },
  {
   "cell_type": "markdown",
   "metadata": {
    "colab_type": "text",
    "id": "Pn5uhmcu5xCE"
   },
   "source": [
    "Netflix movies rarely have a rating lower than three. Most ratings have between three and four stars.\n",
    "The distribution is probably biased, since only people liking the movies proceed to be customers and others presumably will leave the platform."
   ]
  },
  {
   "cell_type": "markdown",
   "metadata": {
    "colab_type": "text",
    "id": "PQwkKk935eRl"
   },
   "source": [
    "## 4.3: Visualize the Distribution of Number of Movie Ratings \n",
    "\n",
    "This is to understand how many movies (y-axis) are receiving specific number of movie ratings (x-axis)"
   ]
  },
  {
   "cell_type": "code",
   "execution_count": 10,
   "metadata": {
    "colab": {
     "base_uri": "https://localhost:8080/",
     "height": 388
    },
    "colab_type": "code",
    "id": "yatEt4eE24FS",
    "outputId": "ca1767f5-2bf8-407a-e232-26e44bac8d2d"
   },
   "outputs": [
    {
     "data": {
      "image/png": "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\n",
      "text/plain": [
       "<Figure size 1008x432 with 2 Axes>"
      ]
     },
     "metadata": {
      "needs_background": "light"
     },
     "output_type": "display_data"
    }
   ],
   "source": [
    "fig, ax = plt.subplots(1, 2, figsize=(14, 6))\n",
    "\n",
    "data = df.groupby('Movie')['Rating'].count()\n",
    "sns.distplot(data[data  < 10000], kde=False, ax=ax[0]);\n",
    "sns.distplot(data[data  > 10000], kde=False, ax=ax[1]);"
   ]
  },
  {
   "cell_type": "markdown",
   "metadata": {
    "colab_type": "text",
    "id": "lS5we5r4-nyV"
   },
   "source": [
    "## Q 4.4: Visualize the Distribution of Number of User Ratings \n",
    "\n",
    "This is to understand how many users (y-axis) are giving specific number of movie ratings (x-axis)\n",
    "\n",
    "__Your Turn:__ Try to find out an optimal threshold as in the previous example to split the data to form two understandable subplots!"
   ]
  },
  {
   "cell_type": "code",
   "execution_count": 11,
   "metadata": {
    "colab": {
     "base_uri": "https://localhost:8080/",
     "height": 388
    },
    "colab_type": "code",
    "id": "hf-Q6jP-24FV",
    "outputId": "8ff4752b-527c-476c-c417-3d5c63a89b99"
   },
   "outputs": [
    {
     "data": {
      "image/png": "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\n",
      "text/plain": [
       "<Figure size 1008x432 with 2 Axes>"
      ]
     },
     "metadata": {
      "needs_background": "light"
     },
     "output_type": "display_data"
    }
   ],
   "source": [
    "fig, ax = plt.subplots(1, 2, figsize=(14, 6))\n",
    "\n",
    "data = df.groupby('User')['Rating'].count()\n",
    "sns.distplot(data[data  < 100], kde=False, ax=ax[0]);\n",
    "sns.distplot(data[data  > 100], kde=False, ax=ax[1]);"
   ]
  },
  {
   "cell_type": "markdown",
   "metadata": {
    "colab_type": "text",
    "id": "EMOY1tG75i24"
   },
   "source": [
    "The ratings per movie as well as the ratings per user both have nearly a perfect exponential decay. Only very few movies/users have many ratings."
   ]
  },
  {
   "cell_type": "markdown",
   "metadata": {
    "colab_type": "text",
    "id": "p5S7Q14L_CL1"
   },
   "source": [
    "# 5. Dimensionality Reduction & Filtering"
   ]
  },
  {
   "cell_type": "markdown",
   "metadata": {
    "colab_type": "text",
    "id": "h5YZwbcH7LzU"
   },
   "source": [
    "## Filter Sparse Movies And Users\n",
    "\n",
    "To reduce the dimensionality of the dataset I am filtering rarely rated movies and rarely rating users out.\n"
   ]
  },
  {
   "cell_type": "code",
   "execution_count": 12,
   "metadata": {
    "colab": {
     "base_uri": "https://localhost:8080/",
     "height": 50
    },
    "colab_type": "code",
    "id": "4nwtEkvSFFK5",
    "outputId": "44e339a2-a068-40d9-848f-619d56288676"
   },
   "outputs": [
    {
     "name": "stdout",
     "output_type": "stream",
     "text": [
      "Shape User-Ratings unfiltered:\t(24053764, 4)\n",
      "Shape User-Ratings filtered:\t(5930581, 4)\n"
     ]
    }
   ],
   "source": [
    "# Filter sparse movies\n",
    "min_movie_ratings = 1000\n",
    "filter_movies = (df['Movie'].value_counts()>min_movie_ratings)\n",
    "filter_movies = filter_movies[filter_movies].index.tolist()\n",
    "\n",
    "# Filter sparse users\n",
    "min_user_ratings = 200\n",
    "filter_users = (df['User'].value_counts()>min_user_ratings)\n",
    "filter_users = filter_users[filter_users].index.tolist()\n",
    "\n",
    "# Actual filtering\n",
    "df_filtered = df[(df['Movie'].isin(filter_movies)) & (df['User'].isin(filter_users))]\n",
    "del filter_movies, filter_users, min_movie_ratings, min_user_ratings\n",
    "print('Shape User-Ratings unfiltered:\\t{}'.format(df.shape))\n",
    "print('Shape User-Ratings filtered:\\t{}'.format(df_filtered.shape))"
   ]
  },
  {
   "cell_type": "markdown",
   "metadata": {
    "colab_type": "text",
    "id": "9GQ4JmM67TYQ"
   },
   "source": [
    "After filtering sparse movies and users about 5.9M rating records are present."
   ]
  },
  {
   "cell_type": "markdown",
   "metadata": {
    "colab_type": "text",
    "id": "EI1CoJP9_kbF"
   },
   "source": [
    "# 6. Create Train and Test Datasets\n",
    "\n",
    "Do note this will be used for the statistical method based models and collaborative filtering.\n",
    "\n",
    "For content based filtering it is more of a model which recommends movies rather than predicting ratings and for the hybrid model we will need to recreate the train and test datasets later since we need to create a subset of movies-users-ratings which have movie text descriptions."
   ]
  },
  {
   "cell_type": "markdown",
   "metadata": {
    "colab_type": "text",
    "id": "G7LX0sob7a2Z"
   },
   "source": [
    "## Create Train and Test datasets"
   ]
  },
  {
   "cell_type": "code",
   "execution_count": 13,
   "metadata": {
    "colab": {
     "base_uri": "https://localhost:8080/",
     "height": 34
    },
    "colab_type": "code",
    "id": "cyCrLAoFFHm4",
    "outputId": "e39e4020-3e5f-4ed7-803a-a8761ddce792"
   },
   "outputs": [
    {
     "data": {
      "text/plain": [
       "((5830581, 3), (100000, 3))"
      ]
     },
     "execution_count": 13,
     "metadata": {},
     "output_type": "execute_result"
    }
   ],
   "source": [
    "# Shuffle DataFrame\n",
    "df_filtered = df_filtered.drop('Date', axis=1).sample(frac=1).reset_index(drop=True)\n",
    "\n",
    "# Testingsize\n",
    "n = 100000\n",
    "\n",
    "# Split train- & testset\n",
    "df_train = df_filtered[:-n]\n",
    "df_test = df_filtered[-n:]\n",
    "df_train.shape, df_test.shape"
   ]
  },
  {
   "cell_type": "markdown",
   "metadata": {
    "colab_type": "text",
    "id": "JjQjPE9-76iP"
   },
   "source": [
    "The train set will be used to train all models and the test set ensures we can compare model performance on unseen data using the RMSE metric."
   ]
  },
  {
   "cell_type": "markdown",
   "metadata": {
    "colab_type": "text",
    "id": "ufn47cGh_wNC"
   },
   "source": [
    "# 7. Transformation"
   ]
  },
  {
   "cell_type": "markdown",
   "metadata": {
    "colab_type": "text",
    "id": "mWkzhX-a792R"
   },
   "source": [
    "### Q 7.1: Transform The User-Movie-Ratings Data Frame to User-Movie Matrix"
   ]
  },
  {
   "cell_type": "markdown",
   "metadata": {
    "colab_type": "text",
    "id": "qDeuv70i8NMQ"
   },
   "source": [
    "A large, sparse matrix will be created in this step. Each row will represent a user and its ratings and the columns are the movies.\n",
    "\n",
    "The movies already rated by users are the non-empty values in the matrix.\n",
    "\n",
    "Empty values are unrated movies and the main objective is to estimate the empty values to help our users.\n",
    "\n",
    "\n",
    "__Your turn:__ Create the User-Movie matrix leveraging the __`pivot_table()`__ function from pandas.\n",
    "\n",
    "Fill in the blanks in the code below by referencing the __`pivot_table()`__ function and invoking it on __`df_train`__. Feel free to check out the documentation.\n",
    "\n",
    "Remember, rows should be users, columns should be movies and the values in the matrix should be the movie ratings. All these should be available in the __`df_train`__ dataframe."
   ]
  },
  {
   "cell_type": "code",
   "execution_count": 14,
   "metadata": {
    "colab": {
     "base_uri": "https://localhost:8080/",
     "height": 438
    },
    "colab_type": "code",
    "id": "_ieAea92FJye",
    "outputId": "7a2dd65d-1af9-4300-c811-1f1d3f8e8f05"
   },
   "outputs": [
    {
     "name": "stdout",
     "output_type": "stream",
     "text": [
      "Shape User-Movie-Matrix:\t(470758, 4499)\n"
     ]
    },
    {
     "data": {
      "text/html": [
       "<div>\n",
       "<style scoped>\n",
       "    .dataframe tbody tr th:only-of-type {\n",
       "        vertical-align: middle;\n",
       "    }\n",
       "\n",
       "    .dataframe tbody tr th {\n",
       "        vertical-align: top;\n",
       "    }\n",
       "\n",
       "    .dataframe thead th {\n",
       "        text-align: right;\n",
       "    }\n",
       "</style>\n",
       "<table border=\"1\" class=\"dataframe\">\n",
       "  <thead>\n",
       "    <tr style=\"text-align: right;\">\n",
       "      <th>Movie</th>\n",
       "      <th>1</th>\n",
       "      <th>2</th>\n",
       "      <th>3</th>\n",
       "      <th>4</th>\n",
       "      <th>5</th>\n",
       "      <th>6</th>\n",
       "      <th>7</th>\n",
       "      <th>8</th>\n",
       "      <th>9</th>\n",
       "      <th>10</th>\n",
       "      <th>...</th>\n",
       "      <th>4490</th>\n",
       "      <th>4491</th>\n",
       "      <th>4492</th>\n",
       "      <th>4493</th>\n",
       "      <th>4494</th>\n",
       "      <th>4495</th>\n",
       "      <th>4496</th>\n",
       "      <th>4497</th>\n",
       "      <th>4498</th>\n",
       "      <th>4499</th>\n",
       "    </tr>\n",
       "    <tr>\n",
       "      <th>User</th>\n",
       "      <th></th>\n",
       "      <th></th>\n",
       "      <th></th>\n",
       "      <th></th>\n",
       "      <th></th>\n",
       "      <th></th>\n",
       "      <th></th>\n",
       "      <th></th>\n",
       "      <th></th>\n",
       "      <th></th>\n",
       "      <th></th>\n",
       "      <th></th>\n",
       "      <th></th>\n",
       "      <th></th>\n",
       "      <th></th>\n",
       "      <th></th>\n",
       "      <th></th>\n",
       "      <th></th>\n",
       "      <th></th>\n",
       "      <th></th>\n",
       "      <th></th>\n",
       "    </tr>\n",
       "  </thead>\n",
       "  <tbody>\n",
       "    <tr>\n",
       "      <th>10</th>\n",
       "      <td>NaN</td>\n",
       "      <td>NaN</td>\n",
       "      <td>NaN</td>\n",
       "      <td>NaN</td>\n",
       "      <td>NaN</td>\n",
       "      <td>NaN</td>\n",
       "      <td>NaN</td>\n",
       "      <td>NaN</td>\n",
       "      <td>NaN</td>\n",
       "      <td>NaN</td>\n",
       "      <td>...</td>\n",
       "      <td>NaN</td>\n",
       "      <td>NaN</td>\n",
       "      <td>NaN</td>\n",
       "      <td>NaN</td>\n",
       "      <td>NaN</td>\n",
       "      <td>NaN</td>\n",
       "      <td>NaN</td>\n",
       "      <td>NaN</td>\n",
       "      <td>NaN</td>\n",
       "      <td>NaN</td>\n",
       "    </tr>\n",
       "    <tr>\n",
       "      <th>1000004</th>\n",
       "      <td>NaN</td>\n",
       "      <td>NaN</td>\n",
       "      <td>NaN</td>\n",
       "      <td>NaN</td>\n",
       "      <td>NaN</td>\n",
       "      <td>NaN</td>\n",
       "      <td>NaN</td>\n",
       "      <td>NaN</td>\n",
       "      <td>NaN</td>\n",
       "      <td>NaN</td>\n",
       "      <td>...</td>\n",
       "      <td>NaN</td>\n",
       "      <td>NaN</td>\n",
       "      <td>NaN</td>\n",
       "      <td>NaN</td>\n",
       "      <td>NaN</td>\n",
       "      <td>NaN</td>\n",
       "      <td>NaN</td>\n",
       "      <td>NaN</td>\n",
       "      <td>NaN</td>\n",
       "      <td>NaN</td>\n",
       "    </tr>\n",
       "    <tr>\n",
       "      <th>1000027</th>\n",
       "      <td>NaN</td>\n",
       "      <td>NaN</td>\n",
       "      <td>NaN</td>\n",
       "      <td>NaN</td>\n",
       "      <td>NaN</td>\n",
       "      <td>NaN</td>\n",
       "      <td>NaN</td>\n",
       "      <td>NaN</td>\n",
       "      <td>NaN</td>\n",
       "      <td>NaN</td>\n",
       "      <td>...</td>\n",
       "      <td>NaN</td>\n",
       "      <td>NaN</td>\n",
       "      <td>NaN</td>\n",
       "      <td>NaN</td>\n",
       "      <td>NaN</td>\n",
       "      <td>NaN</td>\n",
       "      <td>NaN</td>\n",
       "      <td>NaN</td>\n",
       "      <td>NaN</td>\n",
       "      <td>NaN</td>\n",
       "    </tr>\n",
       "    <tr>\n",
       "      <th>1000033</th>\n",
       "      <td>NaN</td>\n",
       "      <td>NaN</td>\n",
       "      <td>NaN</td>\n",
       "      <td>NaN</td>\n",
       "      <td>NaN</td>\n",
       "      <td>NaN</td>\n",
       "      <td>NaN</td>\n",
       "      <td>NaN</td>\n",
       "      <td>NaN</td>\n",
       "      <td>NaN</td>\n",
       "      <td>...</td>\n",
       "      <td>NaN</td>\n",
       "      <td>NaN</td>\n",
       "      <td>NaN</td>\n",
       "      <td>NaN</td>\n",
       "      <td>NaN</td>\n",
       "      <td>NaN</td>\n",
       "      <td>NaN</td>\n",
       "      <td>NaN</td>\n",
       "      <td>NaN</td>\n",
       "      <td>NaN</td>\n",
       "    </tr>\n",
       "    <tr>\n",
       "      <th>1000035</th>\n",
       "      <td>NaN</td>\n",
       "      <td>NaN</td>\n",
       "      <td>NaN</td>\n",
       "      <td>NaN</td>\n",
       "      <td>NaN</td>\n",
       "      <td>NaN</td>\n",
       "      <td>NaN</td>\n",
       "      <td>NaN</td>\n",
       "      <td>NaN</td>\n",
       "      <td>NaN</td>\n",
       "      <td>...</td>\n",
       "      <td>NaN</td>\n",
       "      <td>NaN</td>\n",
       "      <td>NaN</td>\n",
       "      <td>NaN</td>\n",
       "      <td>NaN</td>\n",
       "      <td>NaN</td>\n",
       "      <td>NaN</td>\n",
       "      <td>NaN</td>\n",
       "      <td>NaN</td>\n",
       "      <td>NaN</td>\n",
       "    </tr>\n",
       "    <tr>\n",
       "      <th>1000038</th>\n",
       "      <td>NaN</td>\n",
       "      <td>NaN</td>\n",
       "      <td>NaN</td>\n",
       "      <td>NaN</td>\n",
       "      <td>NaN</td>\n",
       "      <td>NaN</td>\n",
       "      <td>NaN</td>\n",
       "      <td>NaN</td>\n",
       "      <td>NaN</td>\n",
       "      <td>NaN</td>\n",
       "      <td>...</td>\n",
       "      <td>NaN</td>\n",
       "      <td>NaN</td>\n",
       "      <td>NaN</td>\n",
       "      <td>NaN</td>\n",
       "      <td>NaN</td>\n",
       "      <td>NaN</td>\n",
       "      <td>NaN</td>\n",
       "      <td>NaN</td>\n",
       "      <td>NaN</td>\n",
       "      <td>NaN</td>\n",
       "    </tr>\n",
       "    <tr>\n",
       "      <th>1000051</th>\n",
       "      <td>NaN</td>\n",
       "      <td>NaN</td>\n",
       "      <td>NaN</td>\n",
       "      <td>NaN</td>\n",
       "      <td>NaN</td>\n",
       "      <td>NaN</td>\n",
       "      <td>NaN</td>\n",
       "      <td>NaN</td>\n",
       "      <td>NaN</td>\n",
       "      <td>NaN</td>\n",
       "      <td>...</td>\n",
       "      <td>NaN</td>\n",
       "      <td>NaN</td>\n",
       "      <td>NaN</td>\n",
       "      <td>NaN</td>\n",
       "      <td>NaN</td>\n",
       "      <td>NaN</td>\n",
       "      <td>NaN</td>\n",
       "      <td>NaN</td>\n",
       "      <td>NaN</td>\n",
       "      <td>NaN</td>\n",
       "    </tr>\n",
       "    <tr>\n",
       "      <th>1000057</th>\n",
       "      <td>NaN</td>\n",
       "      <td>NaN</td>\n",
       "      <td>NaN</td>\n",
       "      <td>NaN</td>\n",
       "      <td>NaN</td>\n",
       "      <td>NaN</td>\n",
       "      <td>NaN</td>\n",
       "      <td>NaN</td>\n",
       "      <td>NaN</td>\n",
       "      <td>NaN</td>\n",
       "      <td>...</td>\n",
       "      <td>NaN</td>\n",
       "      <td>NaN</td>\n",
       "      <td>NaN</td>\n",
       "      <td>NaN</td>\n",
       "      <td>NaN</td>\n",
       "      <td>NaN</td>\n",
       "      <td>NaN</td>\n",
       "      <td>NaN</td>\n",
       "      <td>NaN</td>\n",
       "      <td>NaN</td>\n",
       "    </tr>\n",
       "    <tr>\n",
       "      <th>100006</th>\n",
       "      <td>NaN</td>\n",
       "      <td>NaN</td>\n",
       "      <td>3.0</td>\n",
       "      <td>NaN</td>\n",
       "      <td>NaN</td>\n",
       "      <td>NaN</td>\n",
       "      <td>NaN</td>\n",
       "      <td>NaN</td>\n",
       "      <td>NaN</td>\n",
       "      <td>NaN</td>\n",
       "      <td>...</td>\n",
       "      <td>NaN</td>\n",
       "      <td>NaN</td>\n",
       "      <td>NaN</td>\n",
       "      <td>NaN</td>\n",
       "      <td>NaN</td>\n",
       "      <td>NaN</td>\n",
       "      <td>NaN</td>\n",
       "      <td>NaN</td>\n",
       "      <td>NaN</td>\n",
       "      <td>NaN</td>\n",
       "    </tr>\n",
       "    <tr>\n",
       "      <th>1000062</th>\n",
       "      <td>NaN</td>\n",
       "      <td>NaN</td>\n",
       "      <td>NaN</td>\n",
       "      <td>NaN</td>\n",
       "      <td>NaN</td>\n",
       "      <td>NaN</td>\n",
       "      <td>NaN</td>\n",
       "      <td>NaN</td>\n",
       "      <td>NaN</td>\n",
       "      <td>NaN</td>\n",
       "      <td>...</td>\n",
       "      <td>NaN</td>\n",
       "      <td>NaN</td>\n",
       "      <td>NaN</td>\n",
       "      <td>NaN</td>\n",
       "      <td>NaN</td>\n",
       "      <td>NaN</td>\n",
       "      <td>NaN</td>\n",
       "      <td>NaN</td>\n",
       "      <td>NaN</td>\n",
       "      <td>NaN</td>\n",
       "    </tr>\n",
       "  </tbody>\n",
       "</table>\n",
       "<p>10 rows × 4499 columns</p>\n",
       "</div>"
      ],
      "text/plain": [
       "Movie    1     2     3     4     5     6     7     8     9     10    ...  \\\n",
       "User                                                                 ...   \n",
       "10        NaN   NaN   NaN   NaN   NaN   NaN   NaN   NaN   NaN   NaN  ...   \n",
       "1000004   NaN   NaN   NaN   NaN   NaN   NaN   NaN   NaN   NaN   NaN  ...   \n",
       "1000027   NaN   NaN   NaN   NaN   NaN   NaN   NaN   NaN   NaN   NaN  ...   \n",
       "1000033   NaN   NaN   NaN   NaN   NaN   NaN   NaN   NaN   NaN   NaN  ...   \n",
       "1000035   NaN   NaN   NaN   NaN   NaN   NaN   NaN   NaN   NaN   NaN  ...   \n",
       "1000038   NaN   NaN   NaN   NaN   NaN   NaN   NaN   NaN   NaN   NaN  ...   \n",
       "1000051   NaN   NaN   NaN   NaN   NaN   NaN   NaN   NaN   NaN   NaN  ...   \n",
       "1000057   NaN   NaN   NaN   NaN   NaN   NaN   NaN   NaN   NaN   NaN  ...   \n",
       "100006    NaN   NaN   3.0   NaN   NaN   NaN   NaN   NaN   NaN   NaN  ...   \n",
       "1000062   NaN   NaN   NaN   NaN   NaN   NaN   NaN   NaN   NaN   NaN  ...   \n",
       "\n",
       "Movie    4490  4491  4492  4493  4494  4495  4496  4497  4498  4499  \n",
       "User                                                                 \n",
       "10        NaN   NaN   NaN   NaN   NaN   NaN   NaN   NaN   NaN   NaN  \n",
       "1000004   NaN   NaN   NaN   NaN   NaN   NaN   NaN   NaN   NaN   NaN  \n",
       "1000027   NaN   NaN   NaN   NaN   NaN   NaN   NaN   NaN   NaN   NaN  \n",
       "1000033   NaN   NaN   NaN   NaN   NaN   NaN   NaN   NaN   NaN   NaN  \n",
       "1000035   NaN   NaN   NaN   NaN   NaN   NaN   NaN   NaN   NaN   NaN  \n",
       "1000038   NaN   NaN   NaN   NaN   NaN   NaN   NaN   NaN   NaN   NaN  \n",
       "1000051   NaN   NaN   NaN   NaN   NaN   NaN   NaN   NaN   NaN   NaN  \n",
       "1000057   NaN   NaN   NaN   NaN   NaN   NaN   NaN   NaN   NaN   NaN  \n",
       "100006    NaN   NaN   NaN   NaN   NaN   NaN   NaN   NaN   NaN   NaN  \n",
       "1000062   NaN   NaN   NaN   NaN   NaN   NaN   NaN   NaN   NaN   NaN  \n",
       "\n",
       "[10 rows x 4499 columns]"
      ]
     },
     "execution_count": 14,
     "metadata": {},
     "output_type": "execute_result"
    }
   ],
   "source": [
    "# Create a user-movie matrix with empty values\n",
    "df_p = df.pivot_table(index=\"User\",columns=\"Movie\", values=\"Rating\")\n",
    "print('Shape User-Movie-Matrix:\\t{}'.format(df_p.shape))\n",
    "df_p.head(10)"
   ]
  },
  {
   "cell_type": "markdown",
   "metadata": {
    "colab_type": "text",
    "id": "ojO2T5Ti_4TG"
   },
   "source": [
    "## 8. Building Recommendation Systems"
   ]
  },
  {
   "cell_type": "markdown",
   "metadata": {
    "colab_type": "text",
    "id": "cOrqqL3KDn9L"
   },
   "source": [
    "## 8.1(a): Global Recommendation Systems (Mean Rating)\n",
    "\n",
    "Computing the mean rating for all movies creates a ranking. The recommendation will be the same for all users and can be used if there is no information on the user.\n",
    "Variations of this approach can be separate rankings for each country/year/gender/... and to use them individually to recommend movies/items to the user.\n",
    "\n",
    "It has to be noted that this approach is biased and favours movies with fewer ratings, since large numbers of ratings tend to be less extreme in its mean ratings."
   ]
  },
  {
   "cell_type": "markdown",
   "metadata": {
    "colab_type": "text",
    "id": "zlIuNnXxONlb"
   },
   "source": [
    "### Additional Hint\n",
    "\n",
    "Predict model performance: [mean_squared_error](https://scikit-learn.org/stable/modules/generated/sklearn.metrics.mean_squared_error.html)"
   ]
  },
  {
   "cell_type": "code",
   "execution_count": 15,
   "metadata": {
    "colab": {
     "base_uri": "https://localhost:8080/",
     "height": 225
    },
    "colab_type": "code",
    "id": "spUQbaIz24Fo",
    "outputId": "0bb9b792-e2af-45a3-994c-ed167f0e75fd"
   },
   "outputs": [
    {
     "data": {
      "text/html": [
       "<div>\n",
       "<style scoped>\n",
       "    .dataframe tbody tr th:only-of-type {\n",
       "        vertical-align: middle;\n",
       "    }\n",
       "\n",
       "    .dataframe tbody tr th {\n",
       "        vertical-align: top;\n",
       "    }\n",
       "\n",
       "    .dataframe thead th {\n",
       "        text-align: right;\n",
       "    }\n",
       "</style>\n",
       "<table border=\"1\" class=\"dataframe\">\n",
       "  <thead>\n",
       "    <tr style=\"text-align: right;\">\n",
       "      <th></th>\n",
       "      <th>Rating-Mean</th>\n",
       "      <th>Rating-Freq</th>\n",
       "      <th>Year</th>\n",
       "      <th>Name</th>\n",
       "    </tr>\n",
       "    <tr>\n",
       "      <th>Movie</th>\n",
       "      <th></th>\n",
       "      <th></th>\n",
       "      <th></th>\n",
       "      <th></th>\n",
       "    </tr>\n",
       "  </thead>\n",
       "  <tbody>\n",
       "    <tr>\n",
       "      <th>3456</th>\n",
       "      <td>4.670989</td>\n",
       "      <td>7249</td>\n",
       "      <td>2004.0</td>\n",
       "      <td>Lost: Season 1</td>\n",
       "    </tr>\n",
       "    <tr>\n",
       "      <th>3033</th>\n",
       "      <td>4.586364</td>\n",
       "      <td>220</td>\n",
       "      <td>2005.0</td>\n",
       "      <td>Ghost in the Shell: Stand Alone Complex: 2nd Gig</td>\n",
       "    </tr>\n",
       "    <tr>\n",
       "      <th>2102</th>\n",
       "      <td>4.581296</td>\n",
       "      <td>8426</td>\n",
       "      <td>1994.0</td>\n",
       "      <td>The Simpsons: Season 6</td>\n",
       "    </tr>\n",
       "    <tr>\n",
       "      <th>4238</th>\n",
       "      <td>4.554434</td>\n",
       "      <td>1883</td>\n",
       "      <td>2000.0</td>\n",
       "      <td>Inu-Yasha</td>\n",
       "    </tr>\n",
       "    <tr>\n",
       "      <th>13</th>\n",
       "      <td>4.552000</td>\n",
       "      <td>125</td>\n",
       "      <td>2003.0</td>\n",
       "      <td>Lord of the Rings: The Return of the King: Ext...</td>\n",
       "    </tr>\n",
       "  </tbody>\n",
       "</table>\n",
       "</div>"
      ],
      "text/plain": [
       "       Rating-Mean  Rating-Freq    Year  \\\n",
       "Movie                                     \n",
       "3456      4.670989         7249  2004.0   \n",
       "3033      4.586364          220  2005.0   \n",
       "2102      4.581296         8426  1994.0   \n",
       "4238      4.554434         1883  2000.0   \n",
       "13        4.552000          125  2003.0   \n",
       "\n",
       "                                                    Name  \n",
       "Movie                                                     \n",
       "3456                                      Lost: Season 1  \n",
       "3033    Ghost in the Shell: Stand Alone Complex: 2nd Gig  \n",
       "2102                              The Simpsons: Season 6  \n",
       "4238                                           Inu-Yasha  \n",
       "13     Lord of the Rings: The Return of the King: Ext...  "
      ]
     },
     "execution_count": 15,
     "metadata": {},
     "output_type": "execute_result"
    }
   ],
   "source": [
    "# Compute mean rating for all movies\n",
    "ratings_mean = df_p.mean(axis=0).sort_values(ascending=False).rename('Rating-Mean').to_frame()\n",
    "\n",
    "# Compute rating frequencies for all movies\n",
    "ratings_count = df_p.count(axis=0).rename('Rating-Freq').to_frame()\n",
    "\n",
    "# Combine the aggregated dataframes\n",
    "combined_df = ratings_mean.join(ratings_count).join(movie_titles)\n",
    "combined_df.head(5)"
   ]
  },
  {
   "cell_type": "code",
   "execution_count": 16,
   "metadata": {
    "colab": {
     "base_uri": "https://localhost:8080/",
     "height": 225
    },
    "colab_type": "code",
    "id": "vf66eVE_24Fq",
    "outputId": "21cc00bc-6df3-4e96-cf2b-142b317f565a"
   },
   "outputs": [
    {
     "data": {
      "text/html": [
       "<div>\n",
       "<style scoped>\n",
       "    .dataframe tbody tr th:only-of-type {\n",
       "        vertical-align: middle;\n",
       "    }\n",
       "\n",
       "    .dataframe tbody tr th {\n",
       "        vertical-align: top;\n",
       "    }\n",
       "\n",
       "    .dataframe thead th {\n",
       "        text-align: right;\n",
       "    }\n",
       "</style>\n",
       "<table border=\"1\" class=\"dataframe\">\n",
       "  <thead>\n",
       "    <tr style=\"text-align: right;\">\n",
       "      <th></th>\n",
       "      <th>User</th>\n",
       "      <th>Rating</th>\n",
       "      <th>Rating-Mean</th>\n",
       "    </tr>\n",
       "    <tr>\n",
       "      <th>Movie</th>\n",
       "      <th></th>\n",
       "      <th></th>\n",
       "      <th></th>\n",
       "    </tr>\n",
       "  </thead>\n",
       "  <tbody>\n",
       "    <tr>\n",
       "      <th>3</th>\n",
       "      <td>1606520</td>\n",
       "      <td>3.0</td>\n",
       "      <td>3.641153</td>\n",
       "    </tr>\n",
       "    <tr>\n",
       "      <th>3</th>\n",
       "      <td>2334738</td>\n",
       "      <td>5.0</td>\n",
       "      <td>3.641153</td>\n",
       "    </tr>\n",
       "    <tr>\n",
       "      <th>3</th>\n",
       "      <td>2017438</td>\n",
       "      <td>4.0</td>\n",
       "      <td>3.641153</td>\n",
       "    </tr>\n",
       "    <tr>\n",
       "      <th>3</th>\n",
       "      <td>2537473</td>\n",
       "      <td>3.0</td>\n",
       "      <td>3.641153</td>\n",
       "    </tr>\n",
       "    <tr>\n",
       "      <th>3</th>\n",
       "      <td>971925</td>\n",
       "      <td>5.0</td>\n",
       "      <td>3.641153</td>\n",
       "    </tr>\n",
       "  </tbody>\n",
       "</table>\n",
       "</div>"
      ],
      "text/plain": [
       "          User  Rating  Rating-Mean\n",
       "Movie                              \n",
       "3      1606520     3.0     3.641153\n",
       "3      2334738     5.0     3.641153\n",
       "3      2017438     4.0     3.641153\n",
       "3      2537473     3.0     3.641153\n",
       "3       971925     5.0     3.641153"
      ]
     },
     "execution_count": 16,
     "metadata": {},
     "output_type": "execute_result"
    }
   ],
   "source": [
    "# Join labels and predictions based on mean movie rating\n",
    "predictions_df = df_test.set_index('Movie').join(ratings_mean)\n",
    "predictions_df.head(5)"
   ]
  },
  {
   "cell_type": "code",
   "execution_count": 17,
   "metadata": {
    "colab": {
     "base_uri": "https://localhost:8080/",
     "height": 34
    },
    "colab_type": "code",
    "id": "9W2txAub24Fs",
    "outputId": "ef0d3bfd-859d-4596-a465-9b17504a1b65"
   },
   "outputs": [
    {
     "name": "stdout",
     "output_type": "stream",
     "text": [
      "The RMSE Value for the Mean Rating Recommender: 1.0137631469676023\n"
     ]
    }
   ],
   "source": [
    "# Compute RMSE\n",
    "y_true = predictions_df['Rating']\n",
    "y_pred = predictions_df['Rating-Mean']\n",
    "\n",
    "rmse = np.sqrt(mean_squared_error(y_true=y_true, y_pred=y_pred))\n",
    "print(\"The RMSE Value for the Mean Rating Recommender:\", rmse)"
   ]
  },
  {
   "cell_type": "code",
   "execution_count": 18,
   "metadata": {
    "colab": {
     "base_uri": "https://localhost:8080/",
     "height": 373
    },
    "colab_type": "code",
    "id": "xda52K1m24Fu",
    "outputId": "a537ffcc-dc45-458b-9d2c-b0ed262d3103"
   },
   "outputs": [
    {
     "data": {
      "text/html": [
       "<div>\n",
       "<style scoped>\n",
       "    .dataframe tbody tr th:only-of-type {\n",
       "        vertical-align: middle;\n",
       "    }\n",
       "\n",
       "    .dataframe tbody tr th {\n",
       "        vertical-align: top;\n",
       "    }\n",
       "\n",
       "    .dataframe thead th {\n",
       "        text-align: right;\n",
       "    }\n",
       "</style>\n",
       "<table border=\"1\" class=\"dataframe\">\n",
       "  <thead>\n",
       "    <tr style=\"text-align: right;\">\n",
       "      <th></th>\n",
       "      <th>Name</th>\n",
       "      <th>Rating-Mean</th>\n",
       "    </tr>\n",
       "    <tr>\n",
       "      <th>Movie</th>\n",
       "      <th></th>\n",
       "      <th></th>\n",
       "    </tr>\n",
       "  </thead>\n",
       "  <tbody>\n",
       "    <tr>\n",
       "      <th>3456</th>\n",
       "      <td>Lost: Season 1</td>\n",
       "      <td>4.670989</td>\n",
       "    </tr>\n",
       "    <tr>\n",
       "      <th>3033</th>\n",
       "      <td>Ghost in the Shell: Stand Alone Complex: 2nd Gig</td>\n",
       "      <td>4.586364</td>\n",
       "    </tr>\n",
       "    <tr>\n",
       "      <th>2102</th>\n",
       "      <td>The Simpsons: Season 6</td>\n",
       "      <td>4.581296</td>\n",
       "    </tr>\n",
       "    <tr>\n",
       "      <th>4238</th>\n",
       "      <td>Inu-Yasha</td>\n",
       "      <td>4.554434</td>\n",
       "    </tr>\n",
       "    <tr>\n",
       "      <th>13</th>\n",
       "      <td>Lord of the Rings: The Return of the King: Ext...</td>\n",
       "      <td>4.552000</td>\n",
       "    </tr>\n",
       "    <tr>\n",
       "      <th>3444</th>\n",
       "      <td>Family Guy: Freakin' Sweet Collection</td>\n",
       "      <td>4.516007</td>\n",
       "    </tr>\n",
       "    <tr>\n",
       "      <th>4427</th>\n",
       "      <td>The West Wing: Season 3</td>\n",
       "      <td>4.473692</td>\n",
       "    </tr>\n",
       "    <tr>\n",
       "      <th>1476</th>\n",
       "      <td>Six Feet Under: Season 4</td>\n",
       "      <td>4.469693</td>\n",
       "    </tr>\n",
       "    <tr>\n",
       "      <th>2019</th>\n",
       "      <td>Samurai Champloo</td>\n",
       "      <td>4.467500</td>\n",
       "    </tr>\n",
       "    <tr>\n",
       "      <th>1418</th>\n",
       "      <td>Inu-Yasha: The Movie 3: Swords of an Honorable...</td>\n",
       "      <td>4.464824</td>\n",
       "    </tr>\n",
       "  </tbody>\n",
       "</table>\n",
       "</div>"
      ],
      "text/plain": [
       "                                                    Name  Rating-Mean\n",
       "Movie                                                                \n",
       "3456                                      Lost: Season 1     4.670989\n",
       "3033    Ghost in the Shell: Stand Alone Complex: 2nd Gig     4.586364\n",
       "2102                              The Simpsons: Season 6     4.581296\n",
       "4238                                           Inu-Yasha     4.554434\n",
       "13     Lord of the Rings: The Return of the King: Ext...     4.552000\n",
       "3444               Family Guy: Freakin' Sweet Collection     4.516007\n",
       "4427                             The West Wing: Season 3     4.473692\n",
       "1476                            Six Feet Under: Season 4     4.469693\n",
       "2019                                    Samurai Champloo     4.467500\n",
       "1418   Inu-Yasha: The Movie 3: Swords of an Honorable...     4.464824"
      ]
     },
     "execution_count": 18,
     "metadata": {},
     "output_type": "execute_result"
    }
   ],
   "source": [
    "# View top ten rated movies\n",
    "combined_df[['Name', 'Rating-Mean']].head(10)"
   ]
  },
  {
   "cell_type": "markdown",
   "metadata": {
    "colab_type": "text",
    "id": "iFalvivYD1Is"
   },
   "source": [
    "## Q 8.1(b): Global Recommendation Systems (Weighted Rating)\n",
    "\n",
    "To tackle the problem of the unstable mean with few ratings e.g. IDMb uses a weighted rating. Many good ratings outweigh few in this algorithm.\n",
    "\n",
    "### Hint:\n",
    "\n",
    "Weighted Rating Formula\n",
    "\n",
    "weighted rating (𝑊𝑅)=(𝑣/(𝑣+𝑚))𝑅+(𝑚/(𝑣+𝑚))𝐶\n",
    "\n",
    "where:\n",
    "\n",
    "*𝑅* = average for the movie (mean) = (Rating)\n",
    "\n",
    "*𝑣* = number of votes for the movie = (votes)\n",
    "\n",
    "*𝑚* = minimum votes required \n",
    "\n",
    "*𝐶* = the mean vote across the whole report \n",
    "\n",
    "__Your Turn:__ Fill in the necessary code snippets below to build and test the model\n"
   ]
  },
  {
   "cell_type": "code",
   "execution_count": null,
   "metadata": {
    "colab": {},
    "colab_type": "code",
    "id": "GVfj7TPz24Fz"
   },
   "outputs": [],
   "source": [
    "# Number of minimum votes to be considered\n",
    "m = 1000\n",
    "\n",
    "# Mean rating for all movies\n",
    "C = df_p.stack().mean()\n",
    "\n",
    "# Mean rating for all movies separately\n",
    "R = df_p.mean(axis=0).values\n",
    "\n",
    "# Rating freqency for all movies separately\n",
    "v = df_p.count().values"
   ]
  },
  {
   "cell_type": "code",
   "execution_count": null,
   "metadata": {
    "colab": {},
    "colab_type": "code",
    "id": "Ntm_D7Yl24F1"
   },
   "outputs": [],
   "source": [
    "# Weighted formula to compute the weighted rating\n",
    "weighted_score = v/(v+m)R+(m/v+m))*C"
   ]
  },
  {
   "cell_type": "code",
   "execution_count": null,
   "metadata": {
    "colab": {
     "base_uri": "https://localhost:8080/",
     "height": 225
    },
    "colab_type": "code",
    "id": "YQe4smBk24F3",
    "outputId": "4d1e39ef-72ef-414a-a235-8d0883aa9e00"
   },
   "outputs": [],
   "source": [
    "# convert weighted_score into a dataframe\n",
    "weighted_mean = pd.Dataframe(weighted_score)\n",
    "\n",
    "# Combine the aggregated dataframes (wighted_mean & movie_titles)\n",
    "combined_df = pd.concat(weighted_mean, movie_title)\n",
    "combined_df.head(5)"
   ]
  },
  {
   "cell_type": "code",
   "execution_count": null,
   "metadata": {
    "colab": {
     "base_uri": "https://localhost:8080/",
     "height": 225
    },
    "colab_type": "code",
    "id": "jMd68xuj24F5",
    "outputId": "948409a5-b235-4892-912a-3ec8b70f841d"
   },
   "outputs": [],
   "source": [
    "# Join labels and predictions based on mean movie rating\n",
    "predictions_df = df_test.set_index('Movie').join(ratings_mean)\n",
    "predictions_df.head(5)"
   ]
  },
  {
   "cell_type": "code",
   "execution_count": null,
   "metadata": {
    "colab": {
     "base_uri": "https://localhost:8080/",
     "height": 34
    },
    "colab_type": "code",
    "id": "HdCxHIO424F8",
    "outputId": "e8369ec9-e022-4b66-cd55-256ee1f5ff62"
   },
   "outputs": [],
   "source": [
    "# Compute RMSE\n",
    "y_true = predictions_df['Rating']\n",
    "y_pred = predictions_df['Rating-Mean']\n",
    "\n",
    "rmse = np.sqrt(mean_squared_error(y_true=y_true, y_pred=y_pred))\n",
    "print(\"The RMSE Value for the Weighted-Mean Rating Recommender:\", rmse)"
   ]
  },
  {
   "cell_type": "code",
   "execution_count": null,
   "metadata": {
    "colab": {
     "base_uri": "https://localhost:8080/",
     "height": 373
    },
    "colab_type": "code",
    "id": "gt1Q5Mh124F-",
    "outputId": "1e61eb00-d5a9-4265-9b80-579b21be655c"
   },
   "outputs": [],
   "source": [
    "# View top ten rated movies\n",
    "combined_df[['Name', 'Rating-Mean']].head(10)"
   ]
  },
  {
   "cell_type": "markdown",
   "metadata": {
    "colab_type": "text",
    "id": "SXa7l21yE-eY"
   },
   "source": [
    "The variable \"m\" can be seen as regularizing parameter. Changing it determines how much weight is put onto the movies with many ratings.\n",
    "Even if there is a better ranking the RMSE decreased slightly. There is a trade-off between interpretability and predictive power."
   ]
  },
  {
   "cell_type": "markdown",
   "metadata": {
    "colab_type": "text",
    "id": "0KRZO1u_24GB"
   },
   "source": [
    "## 8.2: Content Based Recommendation Systems\n",
    "\n",
    "\n",
    "The Content-Based Recommender relies on the similarity of the items being recommended. The basic idea is that if you like an item, then you will also like a “similar” item. It generally works well when it’s easy to determine the context/properties of each item. If there is no historical data for a user or there is reliable metadata for each movie, it can be useful to compare the metadata of the movies to find similar ones.\n",
    "\n",
    "![](./images/Content-based.png)"
   ]
  },
  {
   "cell_type": "markdown",
   "metadata": {
    "colab_type": "text",
    "id": "5WovG-3YFSqo"
   },
   "source": [
    "### Cosine TFIDF Movie Description Similarity"
   ]
  },
  {
   "cell_type": "markdown",
   "metadata": {
    "colab_type": "text",
    "id": "eldw_9lpNfUJ"
   },
   "source": [
    "#### TF-IDF \n",
    "\n",
    "This is a text vectorization technique which is used to determine the relative importance of a document / article / news item / movie etc.\n",
    "\n",
    "TF is simply the frequency of a word in a document. \n",
    "\n",
    "IDF is the inverse of the document frequency among the whole corpus of documents. \n",
    "\n",
    "TF-IDF is used mainly because of two reasons: Suppose we search for “the results of latest European Socccer games” on Google. It is certain that “the” will occur more frequently than “soccer games” but the relative importance of soccer games is higher than the search query point of view. \n",
    "\n",
    "In such cases, TF-IDF weighting negates the effect of high frequency words in determining the importance of an item (document).\n",
    "\n",
    "![](./images/TF-IDF-FORMULA.png)\n"
   ]
  },
  {
   "cell_type": "markdown",
   "metadata": {
    "colab_type": "text",
    "id": "Trb9DlZxOYGO"
   },
   "source": [
    "#### Cosine Similarity \n",
    "After calculating TF-IDF scores, how do we determine which items are closer to each other, rather closer to the user profile? This is accomplished using the Vector Space Model which computes the proximity based on the angle between the vectors.\n",
    "\n",
    "Consider the following example\n",
    "\n",
    "![](./images/vector-space-model.png)\n",
    "\n",
    "Sentence 2 is more likely to be using Term 2 than using Term 1. Vice-versa for Sentence 1. \n",
    "\n",
    "The method of calculating this relative measure is calculated by taking the cosine of the angle between the sentences and the terms. \n",
    "\n",
    "The ultimate reason behind using cosine is that the value of cosine will increase with decreasing value of the angle between which signifies more similarity. \n",
    "\n",
    "The vectors are length normalized after which they become vectors of length 1 and then the cosine calculation is simply the sum-product of vectors."
   ]
  },
  {
   "cell_type": "markdown",
   "metadata": {
    "colab_type": "text",
    "id": "4Cm9mjG-PSr3"
   },
   "source": [
    "In this approch we will use the movie description to create a TFIDF-matrix, which counts and weights words in all descriptions, and compute a cosine similarity between all of those sparse text-vectors. This can easily be extended to more or different features if you like.\n",
    "It is impossible for this model to compute a RMSE score, since the model does not recommend the movies directly.\n",
    "In this way it is possible to find movies closly related to each other.\n",
    "\n",
    "This approach of content based filtering can be extendend to increase the model performance by adding some more features like genres, cast, crew etc."
   ]
  },
  {
   "cell_type": "code",
   "execution_count": null,
   "metadata": {
    "colab": {
     "base_uri": "https://localhost:8080/",
     "height": 134
    },
    "colab_type": "code",
    "id": "AdEeBvSf24GE",
    "outputId": "6dfc4ef6-f4b3-45d3-e6b1-35e2132a2375"
   },
   "outputs": [],
   "source": [
    "# view sample movie descriptions\n",
    "movie_metadata['overview'].head(5)"
   ]
  },
  {
   "cell_type": "code",
   "execution_count": null,
   "metadata": {
    "colab": {},
    "colab_type": "code",
    "id": "DiiwYdQj24GG"
   },
   "outputs": [],
   "source": [
    "# Create tf-idf matrix for text comparison\n",
    "tfidf = TfidfVectorizer(stop_words='english')\n",
    "tfidf_matrix = tfidf.fit_transform(movie_metadata['overview'])"
   ]
  },
  {
   "cell_type": "code",
   "execution_count": null,
   "metadata": {
    "colab": {
     "base_uri": "https://localhost:8080/",
     "height": 560
    },
    "colab_type": "code",
    "id": "VU3Kr_OJ24GK",
    "outputId": "b6224e65-ad8d-4634-a896-c5f9676f7a00"
   },
   "outputs": [],
   "source": [
    "# Compute cosine similarity between all movie-descriptions\n",
    "similarity = cosine_similarity(tfidf_matrix)\n",
    "similarity_df = pd.DataFrame(similarity, \n",
    "                             index=movie_metadata.index.values, \n",
    "                             columns=movie_metadata.index.values)\n",
    "similarity_df.head(10)"
   ]
  },
  {
   "cell_type": "code",
   "execution_count": null,
   "metadata": {
    "colab": {
     "base_uri": "https://localhost:8080/",
     "height": 151
    },
    "colab_type": "code",
    "id": "Tm2sEuOs24GN",
    "outputId": "8d53fd80-f9cd-40bf-8446-e4d5651eac9e"
   },
   "outputs": [],
   "source": [
    "# movie list \n",
    "movie_list = similarity_df.columns.values\n",
    "\n",
    "\n",
    "# sample movie\n",
    "movie = 'Batman Begins'\n",
    "\n",
    "# top recommendation movie count\n",
    "top_n = 10\n",
    "\n",
    "# get movie similarity records\n",
    "movie_sim = similarity_df[similarity_df.index == movie].values[0]\n",
    "\n",
    "# get movies sorted by similarity\n",
    "sorted_movie_ids = np.argsort(movie_sim)[::-1]\n",
    "\n",
    "# get recommended movie names\n",
    "recommended_movies = movie_list[sorted_movie_ids[1:top_n+1]]\n",
    "\n",
    "print('\\n\\nTop Recommended Movies for:', movie, 'are:-\\n', recommended_movies)"
   ]
  },
  {
   "cell_type": "markdown",
   "metadata": {
    "colab_type": "text",
    "id": "50vzONVBqkTu"
   },
   "source": [
    "__Your turn:__ Create a function as defined below, __`content_movie_recommender()`__ which can take in sample movie names and print a list of top N recommended movies"
   ]
  },
  {
   "cell_type": "code",
   "execution_count": null,
   "metadata": {
    "colab": {},
    "colab_type": "code",
    "id": "t5cyFCvp24GT"
   },
   "outputs": [],
   "source": [
    "def content_movie_recommender(input_movie, similarity_database=similarity_df, movie_database_list=movie_list, top_n=10):\n",
    "    pass"
   ]
  },
  {
   "cell_type": "markdown",
   "metadata": {
    "colab_type": "text",
    "id": "gR0sKcxIqxql"
   },
   "source": [
    "__Your turn:__ Test your function below on the given sample movies"
   ]
  },
  {
   "cell_type": "code",
   "execution_count": null,
   "metadata": {
    "colab": {
     "base_uri": "https://localhost:8080/",
     "height": 571
    },
    "colab_type": "code",
    "id": "L0tUINS_24GV",
    "outputId": "f08f8eba-2b5e-41af-f0df-ad80821019a1"
   },
   "outputs": [],
   "source": [
    "sample_movies = ['Captain America', 'The Terminator', 'The Exorcist', \n",
    "                 'The Hunger Games: Mockingjay - Part 1', 'The Blair Witch Project']\n",
    "                 \n",
    "content_movie_recommender(input_movie, similarity_database=similarity_df, movie_database_list=movie_list, top_n=10)"
   ]
  },
  {
   "cell_type": "markdown",
   "metadata": {
    "colab_type": "text",
    "id": "r3fofy8frA2k"
   },
   "source": [
    "## 8.3: Collaborative filtering Recommendation Systems"
   ]
  },
  {
   "cell_type": "markdown",
   "metadata": {
    "colab_type": "text",
    "id": "j9Su_sBArKWX"
   },
   "source": [
    "### Collaborative Filtering\n",
    "Primarily recommends content to you based on inputs or actions from other people(say your friends).\n",
    "![collaborative filtering](./images/collaborative-filtering.png)\n",
    "\n"
   ]
  },
  {
   "cell_type": "markdown",
   "metadata": {
    "colab_type": "text",
    "id": "YxRJfswzrN5A"
   },
   "source": [
    "### What is the intuition behind this?\n",
    "\n",
    "*   **Personal tastes are correlated**\n",
    "\n",
    "\n",
    "        1.   If Alice and Bob both like X and Alice likes Y then Bob is more likely to like Y\n",
    "        2.   especially (perhaps) if Bob knows Alice"
   ]
  },
  {
   "cell_type": "markdown",
   "metadata": {
    "colab_type": "text",
    "id": "TUoI6lh6rSlG"
   },
   "source": [
    "Types of Collaborative Filtering:\n",
    "\n",
    "\n",
    "1.   Neighborhood methods\n",
    "2.   Matrix Factorization (Latent Factor) methods\n",
    "\n"
   ]
  },
  {
   "cell_type": "markdown",
   "metadata": {
    "colab_type": "text",
    "id": "23PnmU-FraW8"
   },
   "source": [
    "Assume you dont have users. Rather you have users' characterisics and properties(as shown in image).![Latent Factor method](https://miro.medium.com/max/876/1*AQEx38Wdo5H0WTSjRfAWtA.png)\n",
    "\n",
    "For example, a person who is brave-hearted is more likely to be interested in dark, horrific movies rather than someone who is soft and compassionate.\n",
    "* ^This is just an example(not in any literal sense)"
   ]
  },
  {
   "cell_type": "markdown",
   "metadata": {
    "colab_type": "text",
    "id": "fidNZWZXrdmt"
   },
   "source": [
    "So, once you have the properties and characteristics of each user, we call them as lower-dimensional features of the users. Similarly, we can have lower-dimensional features for movies(say its 10% action, 20% romance ...)\n",
    "\n",
    "With these features, we represent users and movies in a low dimensional space describing their properties. **This is called as the latent space.**\n",
    "\n",
    "We then recommend a movie based on its proximity to the user in the latent space."
   ]
  },
  {
   "cell_type": "markdown",
   "metadata": {
    "colab_type": "text",
    "id": "InGsgab1rhVT"
   },
   "source": [
    "### The problem:\n",
    "\n",
    "The problem we try to address here is the rating prediction problem. \n",
    "Say, we try to guess how much Alice would rate a movie and suggest those movies that we think Alice will rate higher."
   ]
  },
  {
   "cell_type": "markdown",
   "metadata": {
    "colab_type": "text",
    "id": "NUDZRCzhrijy"
   },
   "source": [
    "### Interesting...But, how do we predict how much Alice would rate a movie?\n",
    "\n",
    " The data we have is a rating history: ratings of users for items in the interval [1,5]. We can put all this data into a sparse matrix called R:\n",
    " \n",
    " $R = \n",
    " \\begin{pmatrix}\n",
    "  3 & ? &? \\\\ \n",
    "  ? & 4 & 5 \\\\\n",
    "  ? & ? & 2 \\\\\n",
    "  2 & 3 & ?\n",
    " \\end{pmatrix}\n",
    " \\begin{matrix}\n",
    "  Alice \\\\ \n",
    "  Bob \\\\\n",
    "  Chand \\\\\n",
    "  Deb\n",
    " \\end{matrix}\n",
    " $\n",
    "\n",
    " Each row of the matrix corresponds to a given user, and each column corresponds to a given item. For instance here, Alice has rated the first movie with a rating of 3, and Chand has rated the third item with a rating of 2.\n",
    "\n",
    " The matrix R is sparse (more than 99% of the entries are missing), and our goal is to predict the missing entries, i.e. predict the ?.\n"
   ]
  },
  {
   "cell_type": "markdown",
   "metadata": {
    "colab_type": "text",
    "id": "i_MeURMvrniQ"
   },
   "source": [
    "### Anatomy of the Rating matrix: LATENT SPACE\n",
    "Before predicting ratings, lets step back and understand the latent space more! \\\\\n",
    " In this Rating matrix, Rows represent Users and Columns represent Movies.\n",
    " $R = \n",
    "  \\begin{pmatrix}\n",
    "  --Alice-- \\\\ \n",
    "  --Bob-- \\\\\n",
    "  --Chand-- \\\\\n",
    "  --Deb--\n",
    " \\end{pmatrix}\n",
    " $\n",
    "\n",
    " In latent space(low dimensional features - fanatics), for instance, Alice could be defined as a little bit of an action fan, a little bit of a comedy fan, a lot of a romance fan, etc. As for Bob, he could be more keen on action movies:\n",
    "\n",
    "```\n",
    "Alice = 10% Action fan + 10% Comedy fan + 50% Romance fan + ⋯ \\\\\n",
    "Bob = 50% Action fan + 30% Comedy fan + 10% Romance fan + ⋯ \\\\\n",
    ": \\\\\n",
    "Zoe = ⋯\n",
    "```\n",
    "\n",
    "What would happen if we transposed our rating matrix? Instead of having users in the rows, we would now have movies, defined as their ratings.\n",
    "\n",
    "$\n",
    "R ^ T = \n",
    "  \\begin{pmatrix}\n",
    "  --Avengers-- \\\\ \n",
    "  --Matrix-- \\\\\n",
    "  --Inception-- \\\\\n",
    "  --Sherlock--\n",
    " \\end{pmatrix}\n",
    "$\n",
    "\n",
    "In the latent space, we will associate a semantic meaning behind each of the  movies, and these semantic meanings(say movie characteristics) can build back all of our original movies."
   ]
  },
  {
   "cell_type": "markdown",
   "metadata": {
    "colab_type": "text",
    "id": "vZ_r91x1rr65"
   },
   "source": [
    "### EXAMPLE\n",
    "In the below example, we convert users and movies to vectors(embeddings) and do dot-product to predict R\n",
    "\n",
    "user vector - U \\\\\n",
    "movies vector - V \\\\\n",
    "$\n",
    "R = U.V\n",
    "$"
   ]
  },
  {
   "cell_type": "markdown",
   "metadata": {
    "colab_type": "text",
    "id": "_Ynl-aVuf3Dy"
   },
   "source": [
    "### Additional hints:\n",
    "\n",
    "use dataframe map - [map](https://pandas.pydata.org/pandas-docs/stable/reference/api/pandas.Series.map.html)\n",
    "\n",
    "Create tensor - [Input](https://www.tensorflow.org/api_docs/python/tf/keras/Input#view-aliases)\n",
    "\n",
    "Create Embedding - [Embedding](https://www.tensorflow.org/api_docs/python/tf/keras/layers/Embedding)\n",
    "\n",
    "Dot product - [Dot](https://www.tensorflow.org/api_docs/python/tf/keras/layers/Dot)\n",
    "\n",
    "Fit model : \n",
    "[fit](https://www.tensorflow.org/api_docs/python/tf/keras/Model#fit)\n",
    "\n",
    "Measure Performance: [mean_squared_error](https://scikit-learn.org/stable/modules/generated/sklearn.metrics.mean_squared_error.html)"
   ]
  },
  {
   "cell_type": "markdown",
   "metadata": {
    "colab_type": "text",
    "id": "wpPZfOrDs-Qs"
   },
   "source": [
    "### Q8.3: Building a Deep Learning Matrix Factorization based Collaborative Filtering Recommendation System\n",
    "\n",
    "__Your Turn:__ Fill in the necessary blank code snippets in the following sections to train your own DL collaborative  filtering system\n",
    "\n",
    "#### Create Configuration Parameters"
   ]
  },
  {
   "cell_type": "code",
   "execution_count": null,
   "metadata": {
    "colab": {},
    "colab_type": "code",
    "id": "AUz12Y_Z24Gh"
   },
   "outputs": [],
   "source": [
    "# Create user and movie-id mapping to convert to numbers\n",
    "user_id_mapping = {id:i for i, id in enumerate(df_filtered['User'].unique())}\n",
    "movie_id_mapping = {id:i for i, id in enumerate(df_filtered['Movie'].unique())}"
   ]
  },
  {
   "cell_type": "code",
   "execution_count": null,
   "metadata": {
    "colab": {},
    "colab_type": "code",
    "id": "4vjVBUM724Gj"
   },
   "outputs": [],
   "source": [
    "# use dataframe map function to map users & movies to mapped ids based on above mapping\n",
    "train_user_data = df_train['User'].map(user_id_mapping)\n",
    "train_movie_data = df_train['Movie'].map(movie_id_mapping)"
   ]
  },
  {
   "cell_type": "code",
   "execution_count": null,
   "metadata": {
    "colab": {},
    "colab_type": "code",
    "id": "_lpKylKD24Gl"
   },
   "outputs": [],
   "source": [
    "# do the same for test data\n",
    "test_user_data = df_test['User'].map(user_id_mapping)\n",
    "test_movie_data = df_test['Movie'].map(movie_id_mapping)"
   ]
  },
  {
   "cell_type": "code",
   "execution_count": null,
   "metadata": {
    "colab": {},
    "colab_type": "code",
    "id": "GME8vJLp24Gn"
   },
   "outputs": [],
   "source": [
    "# Get input variable-sizes\n",
    "users = len(user_id_mapping)\n",
    "movies = len(movie_id_mapping)\n",
    "embedding_size = 100"
   ]
  },
  {
   "cell_type": "markdown",
   "metadata": {
    "colab_type": "text",
    "id": "enO8VNVP24Gp"
   },
   "source": [
    "#### Construct Deep Learning Model Architecture"
   ]
  },
  {
   "cell_type": "code",
   "execution_count": null,
   "metadata": {
    "colab": {},
    "colab_type": "code",
    "id": "GSXpYgst24Gq"
   },
   "outputs": [],
   "source": [
    "# use Input() to create tensors for - 'user' and 'movie'\n",
    "user_id_input = Input(shape=(1,), name='user')\n",
    "movie_id_input = Input(shape=(1,), name='movie')"
   ]
  },
  {
   "cell_type": "code",
   "execution_count": null,
   "metadata": {
    "colab": {},
    "colab_type": "code",
    "id": "gdV4lJri24Gs"
   },
   "outputs": [],
   "source": [
    "# Create embedding layer for users \n",
    "user_embedding = Embedding(output_dim=embedding_size, \n",
    "                           input_dim=users,\n",
    "                           input_length=1, \n",
    "                           name='user_embedding')(user_id_input)\n",
    "\n",
    "# create embedding layer for movies just like users\n",
    "movie_embedding = Embedding(output_dim=embedding_size, \n",
    "                            input_dim=movies, \n",
    "                            input_length=1, \n",
    "                            name='movie_embedding')(movie_id_input)"
   ]
  },
  {
   "cell_type": "code",
   "execution_count": null,
   "metadata": {
    "colab": {},
    "colab_type": "code",
    "id": "cLpdb0pu24Gu"
   },
   "outputs": [],
   "source": [
    "# Reshape the embedding layers\n",
    "user_vector = Reshape([embedding_size])(user_embedding)\n",
    "movie_vector = Reshape([embedding_size])(movie_embedding)"
   ]
  },
  {
   "cell_type": "code",
   "execution_count": null,
   "metadata": {
    "colab": {},
    "colab_type": "code",
    "id": "S-RxXy5B24Gw"
   },
   "outputs": [],
   "source": [
    "# Compute dot-product of reshaped embedding layers as prediction\n",
    "y = Dot(1, normalize=False)([user_vector, movie_vector])"
   ]
  },
  {
   "cell_type": "code",
   "execution_count": null,
   "metadata": {
    "colab": {
     "base_uri": "https://localhost:8080/",
     "height": 403
    },
    "colab_type": "code",
    "id": "5wWeeSfR24Gy",
    "outputId": "cc2f5e4d-e795-4514-9bf1-804cab954ff3"
   },
   "outputs": [],
   "source": [
    "# Setup model\n",
    "model = Model(inputs=[user_id_input, movie_id_input], outputs=y)\n",
    "model.compile(loss='mse', optimizer='adam')\n",
    "model.summary()"
   ]
  },
  {
   "cell_type": "markdown",
   "metadata": {
    "colab_type": "text",
    "id": "g0COamq25owq"
   },
   "source": [
    "#### Train and Test the Model"
   ]
  },
  {
   "cell_type": "code",
   "execution_count": null,
   "metadata": {
    "colab": {
     "base_uri": "https://localhost:8080/",
     "height": 218
    },
    "colab_type": "code",
    "id": "nK6aBtQN24Gz",
    "outputId": "7c729304-f1aa-4e8d-a3e6-aa4a82ebfd0e"
   },
   "outputs": [],
   "source": [
    "# Fit model\n",
    "X = [train_user_data, train_movie_data]\n",
    "y = df_train['Rating']\n",
    "\n",
    "batch_size = 1024\n",
    "epochs = 5\n",
    "validation_split = 0.1\n",
    "\n",
    "model.fit(X, y,\n",
    "          batch_size=batch_size, \n",
    "          epochs=epochs,\n",
    "          validation_split=validation_split,\n",
    "          shuffle=True,\n",
    "          verbose=1)"
   ]
  },
  {
   "cell_type": "code",
   "execution_count": null,
   "metadata": {
    "colab": {
     "base_uri": "https://localhost:8080/",
     "height": 67
    },
    "colab_type": "code",
    "id": "RZLw4PX3AUkz",
    "outputId": "36987db3-b604-400f-e419-79a61f602ef1"
   },
   "outputs": [],
   "source": [
    "# Test model by making predictions on test data\n",
    "y_pred = model.predict([test_user_data, test_movie_data]).ravel()\n",
    "# clip upper and lower ratings\n",
    "y_pred = list(map(lambda x: 1.0 if x < 1 else 5.0 if x > 5.0 else x, y_pred))\n",
    "# get true labels\n",
    "y_true = df_test['Rating'].values\n",
    "\n",
    "#  Compute RMSE\n",
    "rmse = np.sqrt(mean_squared_error(y_pred=y_pred, y_true=y_true))\n",
    "print('\\n\\nTesting Result With DL Matrix-Factorization: {:.4f} RMSE'.format(rmse))"
   ]
  },
  {
   "cell_type": "code",
   "execution_count": null,
   "metadata": {
    "colab": {
     "base_uri": "https://localhost:8080/",
     "height": 639
    },
    "colab_type": "code",
    "id": "oAX4MABlCm-9",
    "outputId": "e041f405-8fe7-46ce-bcb1-d83de061de7f"
   },
   "outputs": [],
   "source": [
    "## Let's see how our collaborative model performs by seeing the predicted and actual rating for the given user and movie pair\n",
    "results_df = pd.DataFrame({\n",
    "    'User ID': test_user_data.values,\n",
    "    'Movie ID': test_movie_data.values,\n",
    "    'Movie Name': [movie_titles['Name'].iloc[item] for item in test_movie_data],\n",
    "    'Predicted Rating': np.round(y_pred, 1),\n",
    "    'Actual Rating': y_true\n",
    "})\n",
    "\n",
    "results_df.head(20)"
   ]
  },
  {
   "cell_type": "markdown",
   "metadata": {
    "colab_type": "text",
    "id": "Gaq-sJqpc_B_"
   },
   "source": [
    "## 8.4: Hybrid Recommendation System (Content & Collaborative)\n",
    "\n",
    "One advantage of deep learning models is, that movie-metadata can easily be added to the model.\n",
    "We will tf-idf transform the short description of all movies to a sparse vector. The model will learn to reduce the dimensionality of this vector and how to combine metadata with the embedding of the user-id and the movie-id. In this way we can add any additional metadata to our own recommender.\n",
    "These kind of hybrid systems can learn how to reduce the impact of the cold start problem.\n",
    "\n",
    "Deep learning models require lots of data to train and predict. To provide our model with more data, we will include the movie metadata as well. We will do the following:\n",
    "\n",
    "\n",
    "*   Use movie metadata to combine with user and movie matrices in order to get more data\n",
    "*   Use tf-idf transform to vectorize movie metadata (Sparse Layer)\n",
    "*   Create an embedding of the metadata 512 -> 256 \n",
    "*   Combine all embeddings for movie tf-idf vectors, user and ratings to arrive at a common embedding space (256 sized embeddings per entity)\n",
    "*   Use the embeddings to train the model and get predictions on the test data\n",
    "\n",
    "\n",
    "\n",
    "\n",
    "\n"
   ]
  },
  {
   "cell_type": "markdown",
   "metadata": {
    "colab_type": "text",
    "id": "gw7fwxvQc4DV"
   },
   "source": [
    "### Additional Hints:\n",
    "\n",
    "Dense layer setup :\n",
    "[Dense](https://www.tensorflow.org/api_docs/python/tf/keras/layers/Dense#example_2)\n",
    "\n",
    "Create model using tf.keras API : \n",
    "[Model](https://www.tensorflow.org/api_docs/python/tf/keras/Model#used-in-the-notebooks)\n",
    "\n",
    "Compile model using : [Compile](https://www.tensorflow.org/api_docs/python/tf/keras/Model#compile)\n",
    "\n",
    "Fit model : \n",
    "[fit](https://www.tensorflow.org/api_docs/python/tf/keras/Model#fit)\n",
    "\n",
    "Predict accuracy: [mean_squared_error](https://scikit-learn.org/stable/modules/generated/sklearn.metrics.mean_squared_error.html)\n",
    "\n"
   ]
  },
  {
   "cell_type": "markdown",
   "metadata": {
    "colab_type": "text",
    "id": "hINM6pCk3yKz"
   },
   "source": [
    "### Q8.3: Building a Deep Learning Hybrid Recommendation System\n",
    "\n",
    "We will be building the following hybrid deep learning recommendation model as scene in the following schematic.\n",
    "\n",
    "![](./images/hybrid-dl-model.png)\n",
    "\n",
    "__Your Turn:__ Fill in the necessary blank code snippets in the following sections to train your own DL hybrid recommendation system\n",
    "\n",
    "#### Create Configuration Parameters"
   ]
  },
  {
   "cell_type": "code",
   "execution_count": null,
   "metadata": {
    "colab": {},
    "colab_type": "code",
    "id": "QmOFI6gNZOYy"
   },
   "outputs": [],
   "source": [
    "# ceate a copy of the filtered data frame\n",
    "df_filtered_cp = df_filtered.copy(deep=True)"
   ]
  },
  {
   "cell_type": "code",
   "execution_count": null,
   "metadata": {
    "colab": {},
    "colab_type": "code",
    "id": "eknbQW6mHsKN"
   },
   "outputs": [],
   "source": [
    "# Create user- & movie-id mapping\n",
    "user_id_mapping = {id:i for i, id in enumerate(df_filtered_cp['User'].unique())}\n",
    "movie_id_mapping = {id:i for i, id in enumerate(df_filtered_cp['Movie'].unique())}"
   ]
  },
  {
   "cell_type": "code",
   "execution_count": null,
   "metadata": {
    "colab": {},
    "colab_type": "code",
    "id": "yLHTi2NsIEAM"
   },
   "outputs": [],
   "source": [
    "# use dataframe map function to map users & movies to mapped ids based on above mapping\n",
    "df_filtered_cp['User'] = df_filtered_cp['User'].map(user_id_mapping)\n",
    "df_filtered_cp['Movie'] = df_filtered_cp['Movie'].map(movie_id_mapping)"
   ]
  },
  {
   "cell_type": "markdown",
   "metadata": {
    "colab_type": "text",
    "id": "fh1Bg5Q_38mF"
   },
   "source": [
    "#### Create Movie Description Dataset (Content)"
   ]
  },
  {
   "cell_type": "code",
   "execution_count": null,
   "metadata": {
    "colab": {
     "base_uri": "https://localhost:8080/",
     "height": 242
    },
    "colab_type": "code",
    "id": "CoAHPk1SIECT",
    "outputId": "341478ef-8e00-410d-dee3-ba3c79f4b409"
   },
   "outputs": [],
   "source": [
    "# Preprocess metadata\n",
    "tmp_metadata = movie_metadata.copy()\n",
    "tmp_metadata.index = tmp_metadata.index.str.lower()\n",
    "\n",
    "# Preprocess titles\n",
    "tmp_titles = movie_titles.drop('Year', axis=1).copy()\n",
    "tmp_titles = tmp_titles.reset_index().set_index('Name')\n",
    "tmp_titles.index = tmp_titles.index.str.lower()\n",
    "\n",
    "# Combine titles and metadata\n",
    "df_id_descriptions = tmp_titles.join(tmp_metadata).dropna().set_index('Id')\n",
    "df_id_descriptions['overview'] = df_id_descriptions['overview'].str.lower()\n",
    "#del tmp_metadata,tmp_titles\n",
    "print('Movie Description DF Shape:', df_id_descriptions.shape)\n",
    "df_id_descriptions.tail()"
   ]
  },
  {
   "cell_type": "markdown",
   "metadata": {
    "colab_type": "text",
    "id": "R7__gU8E44m-"
   },
   "source": [
    "#### Create User-Rating Filtered Dataset (Collaborative)\n",
    "\n",
    "Here we filter out movie-user-ratings where movies don't have descriptions (content)"
   ]
  },
  {
   "cell_type": "code",
   "execution_count": null,
   "metadata": {
    "colab": {
     "base_uri": "https://localhost:8080/",
     "height": 212
    },
    "colab_type": "code",
    "id": "w-NM3bV_JOG_",
    "outputId": "7a028ed8-0293-452b-ed54-e92acee43258"
   },
   "outputs": [],
   "source": [
    "df_hybrid = (df_filtered_cp.set_index('Movie')\n",
    "               .join(df_id_descriptions)\n",
    "               .dropna()\n",
    "               .drop('overview', axis=1)\n",
    "               .reset_index().rename({'index':'Movie'}, \n",
    "                                      axis=1))\n",
    "print('Movie-User-Rating DF Shape:', df_hybrid.shape)\n",
    "df_hybrid.head()"
   ]
  },
  {
   "cell_type": "code",
   "execution_count": null,
   "metadata": {
    "colab": {
     "base_uri": "https://localhost:8080/",
     "height": 34
    },
    "colab_type": "code",
    "id": "j7CHcKM_JOOw",
    "outputId": "e1378ad4-6a97-4fc3-9678-f131f7664686"
   },
   "outputs": [],
   "source": [
    "# Split train- & testset\n",
    "n = 300000\n",
    "df_hybrid = df_hybrid.sample(frac=1).reset_index(drop=True)\n",
    "df_hybrid_train = df_hybrid[:-n]\n",
    "df_hybrid_test = df_hybrid[-n:]\n",
    "df_hybrid_train.shape, df_hybrid_test.shape"
   ]
  },
  {
   "cell_type": "markdown",
   "metadata": {
    "colab_type": "text",
    "id": "k33OwrFO5RpF"
   },
   "source": [
    "#### Generate TFIDF Vectors for Train and Test Datasets (Movie Descriptions)"
   ]
  },
  {
   "cell_type": "code",
   "execution_count": null,
   "metadata": {
    "colab": {},
    "colab_type": "code",
    "id": "ZqiyhdelU775"
   },
   "outputs": [],
   "source": [
    "# Create tf-idf matrix for movie description vectors - HINT: check the overview column of df_id_description\n",
    "tfidf = TfidfVectorizer(stop_words='english') \n",
    "tfidf_hybrid = tfidf.fit_transform(df_id_descriptions['overview'])"
   ]
  },
  {
   "cell_type": "code",
   "execution_count": null,
   "metadata": {
    "colab": {},
    "colab_type": "code",
    "id": "RgxZz-0wU7-C"
   },
   "outputs": [],
   "source": [
    "# Get mapping from movie-ids to indices in tfidf-matrix\n",
    "movie_idx_mapping = {id:i for i, id in enumerate(df_id_descriptions.index)}"
   ]
  },
  {
   "cell_type": "code",
   "execution_count": null,
   "metadata": {
    "colab": {
     "base_uri": "https://localhost:8080/",
     "height": 50
    },
    "colab_type": "code",
    "id": "HemfBsDqU8AL",
    "outputId": "065a5eb2-3920-4028-af05-e17bd0ee3137"
   },
   "outputs": [],
   "source": [
    "# get train data tfidf vectors\n",
    "train_tfidf = []\n",
    "\n",
    "# Iterate over all movie-ids and save the tfidf-vectors (sparse format for memory efficiency)\n",
    "for idx in tqdm(df_hybrid_train['Movie'].values):\n",
    "    index = movie_idx_mapping[idx]\n",
    "    train_tfidf.append(tfidf_hybrid[index])\n",
    "\n",
    "len(train_tfidf)"
   ]
  },
  {
   "cell_type": "code",
   "execution_count": null,
   "metadata": {
    "colab": {
     "base_uri": "https://localhost:8080/",
     "height": 50
    },
    "colab_type": "code",
    "id": "7AqgNsqrU8CZ",
    "outputId": "da454ca5-ae30-47cc-b865-4642069edb15"
   },
   "outputs": [],
   "source": [
    "# get test data tfidf vectors\n",
    "test_tfidf = []\n",
    "\n",
    "# Iterate over all movie-ids and save the tfidf-vectors (sparse format for memory efficiency)\n",
    "for idx in tqdm(df_hybrid_test['Movie'].values): \n",
    "index = movie_idx_mapping[idx] \n",
    "test_tfidf.append(tfidf_hybrid[index])",
    "\n",
    "len(test_tfidf)"
   ]
  },
  {
   "cell_type": "code",
   "execution_count": null,
   "metadata": {
    "colab": {
     "base_uri": "https://localhost:8080/",
     "height": 34
    },
    "colab_type": "code",
    "id": "3dyKQnCNdQTc",
    "outputId": "bcf2ef13-850c-4de3-e04a-f9884a085431"
   },
   "outputs": [],
   "source": [
    "# Stack the sparse matrices\n",
    "train_tfidf = vstack(train_tfidf)\n",
    "test_tfidf = vstack(test_tfidf)\n",
    "\n",
    "train_tfidf.shape, test_tfidf.shape"
   ]
  },
  {
   "cell_type": "code",
   "execution_count": null,
   "metadata": {
    "colab": {
     "base_uri": "https://localhost:8080/",
     "height": 34
    },
    "colab_type": "code",
    "id": "dMI3SxfNdwNQ",
    "outputId": "454e8563-c55e-4874-87b9-793441bdc431"
   },
   "outputs": [],
   "source": [
    "type(train_tfidf)"
   ]
  },
  {
   "cell_type": "markdown",
   "metadata": {
    "colab_type": "text",
    "id": "M4m5y7Zv5ZuK"
   },
   "source": [
    "This shows we are using sparse matrices to represent the vectors as dense vectors would typically give a out of memory error!"
   ]
  },
  {
   "cell_type": "markdown",
   "metadata": {
    "colab_type": "text",
    "id": "rCZjFT6JeIDs"
   },
   "source": [
    "#### Construct Deep Learning Model Architecture"
   ]
  },
  {
   "cell_type": "code",
   "execution_count": null,
   "metadata": {
    "colab": {},
    "colab_type": "code",
    "id": "y_WYqzMpeJby"
   },
   "outputs": [],
   "source": [
    "# setup NN parameters\n",
    "user_embed_dim = 256\n",
    "movie_embed_dim = 256\n",
    "userid_input_shape = 1\n",
    "movieid_input_shape = 1\n",
    "tfidf_input_shape = tfidf_hybrid.shape[1]"
   ]
  },
  {
   "cell_type": "code",
   "execution_count": null,
   "metadata": {
    "colab": {},
    "colab_type": "code",
    "id": "Ea74tynzeqGB"
   },
   "outputs": [],
   "source": [
    "# Create the input layers\n",
    "\n",
    "# user and movie input layers\n",
    "user_id_input = Input(shape=(userid_input_shape,), name='user')\n",
    "movie_id_input = Input(shape=(movie_id_input_shape,), name='movie')\n",
    "\n",
    "# tfidf input layer\n",
    "tfidf_input = Input(shape=(tfidf_input_shape,), name='tfidf', sparse=True)"
   ]
  },
  {
   "cell_type": "code",
   "execution_count": null,
   "metadata": {
    "colab": {},
    "colab_type": "code",
    "id": "zc_bGQ6ne3Cj"
   },
   "outputs": [],
   "source": [
    "# Create embeddings layers for users and movies\n",
    "\n",
    "# user embedding\n",
    "user_embedding = Embedding(output_dim=user_embed_dim,\n",
    "                           input_dim=len(user_id_mapping),\n",
    "                           input_length=userid_input_shape,\n",
    "                           name='user_embedding')(user_id_input)\n",
    "\n",
    "# movie embedding\n",
    "movie_embedding = Embedding(output_dim=movie_embed_dim,\n",
    "                           input_dim=len(movie_id_mapping),\n",
    "                           input_length=movie_id_input_shape,\n",
    "                           name='movie_embedding')(movie_id_input)\n",
   ]
  },
  {
   "cell_type": "code",
   "execution_count": null,
   "metadata": {
    "colab": {},
    "colab_type": "code",
    "id": "pm_H8CaXe3Gn"
   },
   "outputs": [],
   "source": [
    "# Dimensionality reduction with Dense layers\n",
    "tfidf_vectors = Dense(512, activation='relu')(tfidf_input)\n",
    "tfidf_vectors = Dense(256, activation='relu')(tfidf_vectors)"
   ]
  },
  {
   "cell_type": "code",
   "execution_count": null,
   "metadata": {
    "colab": {},
    "colab_type": "code",
    "id": "rlNBswdYe3I8"
   },
   "outputs": [],
   "source": [
    "# Reshape both user and movie embedding layers\n",
    "user_vectors = Reshape([user_embed_dim])(user_embedding)\n",
    "movie_vectors = Reshape([movie_embed_dim])(movie_embedding)"
   ]
  },
  {
   "cell_type": "code",
   "execution_count": null,
   "metadata": {
    "colab": {},
    "colab_type": "code",
    "id": "LfcefQQEe3E2"
   },
   "outputs": [],
   "source": [
    "# Concatenate all layers into one \n",
    "hybrid_layer = Concatenate()([user_vectors, movie_vectors, tfidf_vectors])"
   ]
  },
  {
   "cell_type": "code",
   "execution_count": null,
   "metadata": {
    "colab": {},
    "colab_type": "code",
    "id": "WfZK5Dg9oxVA"
   },
   "outputs": [],
   "source": [
    "# add in dense and output layers\n",
    "dense = Dense(512, activation='relu')(hybrid_layer)\n",
    "dense = Dropout(0.2)(dense)\n",
    "output = Dense(1)(dense)"
   ]
  },
  {
   "cell_type": "code",
   "execution_count": null,
   "metadata": {
    "colab": {
     "base_uri": "https://localhost:8080/",
     "height": 622
    },
    "colab_type": "code",
    "id": "odLeDjgzoxYA",
    "outputId": "56430bf2-ce38-43d6-f2c7-82974b41af94"
   },
   "outputs": [],
   "source": [
    "# create and view model summary\n",
    "model = Model(inputs=[user_id_input, movie_id_input, tfidf_input], outputs=output)\n",
    "model.compile(loss='mse', optimizer='adam')\n",
    "model.summary()"
   ]
  },
  {
   "cell_type": "markdown",
   "metadata": {
    "colab_type": "text",
    "id": "upDnm3r76Ivj"
   },
   "source": [
    "#### Train and Test the Model"
   ]
  },
  {
   "cell_type": "code",
   "execution_count": null,
   "metadata": {
    "colab": {
     "base_uri": "https://localhost:8080/",
     "height": 386
    },
    "colab_type": "code",
    "id": "SmzWu6Xhoxnt",
    "outputId": "18233373-81f3-4bc1-a177-91b46e68b87f"
   },
   "outputs": [],
   "source": [
    "# fit the model\n",
    "batch_size=1024\n",
    "epochs=10\n",
    "X = [df_hybrid_train['User'], df_hybrid_train['Movie'], train_tfidf]\n",
    "y = df_hybrid_train['Rating']\n",
    "model.fit(X, y,\n",
    "          batch_size=batch_size, \n",
    "          epochs=epochs, ## Change the epochs to find better improved model.\n",
    "          validation_split=0.1,\n",
    "          shuffle=True)"
   ]
  },
  {
   "cell_type": "code",
   "execution_count": null,
   "metadata": {
    "colab": {
     "base_uri": "https://localhost:8080/",
     "height": 67
    },
    "colab_type": "code",
    "id": "ZLkTXmxhpK7r",
    "outputId": "4d99eaa3-5f84-4814-e083-a82058bacc68"
   },
   "outputs": [],
   "source": [
    "# create test input data and true outputs\n",
    "X_test = [df_hybrid_test['User'], df_hybrid_test['Movie'], test_tfidf]\n",
    "y_true = df_hybrid_test['Rating'].values \n",
    "\n",
    "# Test model by making predictions on test data\n",
    "y_pred = model.predict(X_test).ravel()\n",
    "# clip upper and lower ratings\n",
    "y_pred = list(map(lambda x: 1.0 if x < 1 else 5.0 if x > 5.0 else x, y_pred))\n",
    "\n",
    "#  Compute RMSE\n",
    "rmse = np.sqrt(mean_squared_error(y_pred=y_pred, y_true=y_true))\n",
    "print('\\n\\nTesting Result With DL Hybrid Recommender: {:.4f} RMSE'.format(rmse))"
   ]
  },
  {
   "cell_type": "code",
   "execution_count": null,
   "metadata": {
    "colab": {
     "base_uri": "https://localhost:8080/",
     "height": 639
    },
    "colab_type": "code",
    "id": "ecgDG4C9pLAG",
    "outputId": "e13970a0-c7a0-4b0d-d2f3-7d765e901881"
   },
   "outputs": [],
   "source": [
    "## Let's see how our collaborative model performs by seeing the predicted and actual rating for the given user and movie pair\n",
    "results_df = pd.DataFrame({\n",
    "    'User ID': df_hybrid_test['User'].values,\n",
    "    'Movie ID': df_hybrid_test['Movie'].values,\n",
    "    'Movie Name': [movie_titles['Name'].iloc[item] for item in df_hybrid_test['Movie']],\n",
    "    'Predicted Rating': np.round(y_pred, 1),\n",
    "    'Actual Rating': y_true\n",
    "})\n",
    "\n",
    "results_df.head(20)"
   ]
  }
 ],
 "metadata": {
  "accelerator": "GPU",
  "colab": {
   "collapsed_sections": [],
   "machine_shape": "hm",
   "name": "Recommendation_Systems.ipynb",
   "provenance": []
  },
  "kernelspec": {
   "display_name": "Python 3",
   "language": "python",
   "name": "python3"
  },
  "language_info": {
   "codemirror_mode": {
    "name": "ipython",
    "version": 3
   },
   "file_extension": ".py",
   "mimetype": "text/x-python",
   "name": "python",
   "nbconvert_exporter": "python",
   "pygments_lexer": "ipython3",
   "version": "3.9.4"
  }
 },
 "nbformat": 4,
 "nbformat_minor": 1
}
